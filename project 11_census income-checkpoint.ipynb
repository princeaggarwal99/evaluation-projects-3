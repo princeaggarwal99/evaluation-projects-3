{
 "cells": [
  {
   "cell_type": "code",
   "execution_count": 91,
   "metadata": {},
   "outputs": [],
   "source": [
    "# importing libraries\n",
    "import pandas as pd \n",
    "import numpy as np\n",
    "import seaborn as sns\n",
    "import matplotlib.pyplot as plt\n",
    "import warnings\n",
    "warnings.filterwarnings('ignore')"
   ]
  },
  {
   "cell_type": "code",
   "execution_count": 92,
   "metadata": {},
   "outputs": [],
   "source": [
    "#importing dataset\n",
    "census=pd.read_csv('census.csv')"
   ]
  },
  {
   "cell_type": "code",
   "execution_count": 93,
   "metadata": {},
   "outputs": [
    {
     "data": {
      "text/html": [
       "<div>\n",
       "<style scoped>\n",
       "    .dataframe tbody tr th:only-of-type {\n",
       "        vertical-align: middle;\n",
       "    }\n",
       "\n",
       "    .dataframe tbody tr th {\n",
       "        vertical-align: top;\n",
       "    }\n",
       "\n",
       "    .dataframe thead th {\n",
       "        text-align: right;\n",
       "    }\n",
       "</style>\n",
       "<table border=\"1\" class=\"dataframe\">\n",
       "  <thead>\n",
       "    <tr style=\"text-align: right;\">\n",
       "      <th></th>\n",
       "      <th>age</th>\n",
       "      <th>workclass</th>\n",
       "      <th>fnlwgt</th>\n",
       "      <th>education</th>\n",
       "      <th>education-num</th>\n",
       "      <th>marital-status</th>\n",
       "      <th>occupation</th>\n",
       "      <th>relationship</th>\n",
       "      <th>race</th>\n",
       "      <th>sex</th>\n",
       "      <th>capital-gain</th>\n",
       "      <th>capital-loss</th>\n",
       "      <th>hours-per-week</th>\n",
       "      <th>nativa-country</th>\n",
       "      <th>income</th>\n",
       "    </tr>\n",
       "  </thead>\n",
       "  <tbody>\n",
       "    <tr>\n",
       "      <td>0</td>\n",
       "      <td>39</td>\n",
       "      <td>State-gov</td>\n",
       "      <td>77516</td>\n",
       "      <td>Bachelors</td>\n",
       "      <td>13</td>\n",
       "      <td>Never-married</td>\n",
       "      <td>Adm-clerical</td>\n",
       "      <td>Not-in-family</td>\n",
       "      <td>White</td>\n",
       "      <td>Male</td>\n",
       "      <td>2174</td>\n",
       "      <td>0</td>\n",
       "      <td>40</td>\n",
       "      <td>United-States</td>\n",
       "      <td>&lt;=50K</td>\n",
       "    </tr>\n",
       "    <tr>\n",
       "      <td>1</td>\n",
       "      <td>50</td>\n",
       "      <td>Self-emp-not-inc</td>\n",
       "      <td>83311</td>\n",
       "      <td>Bachelors</td>\n",
       "      <td>13</td>\n",
       "      <td>Married-civ-spouse</td>\n",
       "      <td>Exec-managerial</td>\n",
       "      <td>Husband</td>\n",
       "      <td>White</td>\n",
       "      <td>Male</td>\n",
       "      <td>0</td>\n",
       "      <td>0</td>\n",
       "      <td>13</td>\n",
       "      <td>United-States</td>\n",
       "      <td>&lt;=50K</td>\n",
       "    </tr>\n",
       "    <tr>\n",
       "      <td>2</td>\n",
       "      <td>38</td>\n",
       "      <td>Private</td>\n",
       "      <td>215646</td>\n",
       "      <td>HS-grad</td>\n",
       "      <td>9</td>\n",
       "      <td>Divorced</td>\n",
       "      <td>Handlers-cleaners</td>\n",
       "      <td>Not-in-family</td>\n",
       "      <td>White</td>\n",
       "      <td>Male</td>\n",
       "      <td>0</td>\n",
       "      <td>0</td>\n",
       "      <td>40</td>\n",
       "      <td>United-States</td>\n",
       "      <td>&lt;=50K</td>\n",
       "    </tr>\n",
       "    <tr>\n",
       "      <td>3</td>\n",
       "      <td>53</td>\n",
       "      <td>Private</td>\n",
       "      <td>234721</td>\n",
       "      <td>11th</td>\n",
       "      <td>7</td>\n",
       "      <td>Married-civ-spouse</td>\n",
       "      <td>Handlers-cleaners</td>\n",
       "      <td>Husband</td>\n",
       "      <td>Black</td>\n",
       "      <td>Male</td>\n",
       "      <td>0</td>\n",
       "      <td>0</td>\n",
       "      <td>40</td>\n",
       "      <td>United-States</td>\n",
       "      <td>&lt;=50K</td>\n",
       "    </tr>\n",
       "    <tr>\n",
       "      <td>4</td>\n",
       "      <td>28</td>\n",
       "      <td>Private</td>\n",
       "      <td>338409</td>\n",
       "      <td>Bachelors</td>\n",
       "      <td>13</td>\n",
       "      <td>Married-civ-spouse</td>\n",
       "      <td>Prof-specialty</td>\n",
       "      <td>Wife</td>\n",
       "      <td>Black</td>\n",
       "      <td>Female</td>\n",
       "      <td>0</td>\n",
       "      <td>0</td>\n",
       "      <td>40</td>\n",
       "      <td>Cuba</td>\n",
       "      <td>&lt;=50K</td>\n",
       "    </tr>\n",
       "  </tbody>\n",
       "</table>\n",
       "</div>"
      ],
      "text/plain": [
       "   age          workclass  fnlwgt   education  education-num  \\\n",
       "0   39          State-gov   77516   Bachelors             13   \n",
       "1   50   Self-emp-not-inc   83311   Bachelors             13   \n",
       "2   38            Private  215646     HS-grad              9   \n",
       "3   53            Private  234721        11th              7   \n",
       "4   28            Private  338409   Bachelors             13   \n",
       "\n",
       "        marital-status          occupation    relationship    race      sex  \\\n",
       "0        Never-married        Adm-clerical   Not-in-family   White     Male   \n",
       "1   Married-civ-spouse     Exec-managerial         Husband   White     Male   \n",
       "2             Divorced   Handlers-cleaners   Not-in-family   White     Male   \n",
       "3   Married-civ-spouse   Handlers-cleaners         Husband   Black     Male   \n",
       "4   Married-civ-spouse      Prof-specialty            Wife   Black   Female   \n",
       "\n",
       "   capital-gain  capital-loss  hours-per-week  nativa-country  income  \n",
       "0          2174             0              40   United-States   <=50K  \n",
       "1             0             0              13   United-States   <=50K  \n",
       "2             0             0              40   United-States   <=50K  \n",
       "3             0             0              40   United-States   <=50K  \n",
       "4             0             0              40            Cuba   <=50K  "
      ]
     },
     "execution_count": 93,
     "metadata": {},
     "output_type": "execute_result"
    }
   ],
   "source": [
    "census.head()"
   ]
  },
  {
   "cell_type": "code",
   "execution_count": 94,
   "metadata": {},
   "outputs": [
    {
     "data": {
      "text/html": [
       "<div>\n",
       "<style scoped>\n",
       "    .dataframe tbody tr th:only-of-type {\n",
       "        vertical-align: middle;\n",
       "    }\n",
       "\n",
       "    .dataframe tbody tr th {\n",
       "        vertical-align: top;\n",
       "    }\n",
       "\n",
       "    .dataframe thead th {\n",
       "        text-align: right;\n",
       "    }\n",
       "</style>\n",
       "<table border=\"1\" class=\"dataframe\">\n",
       "  <thead>\n",
       "    <tr style=\"text-align: right;\">\n",
       "      <th></th>\n",
       "      <th>age</th>\n",
       "      <th>workclass</th>\n",
       "      <th>fnlwgt</th>\n",
       "      <th>education</th>\n",
       "      <th>education-num</th>\n",
       "      <th>marital-status</th>\n",
       "      <th>occupation</th>\n",
       "      <th>relationship</th>\n",
       "      <th>race</th>\n",
       "      <th>sex</th>\n",
       "      <th>capital-gain</th>\n",
       "      <th>capital-loss</th>\n",
       "      <th>hours-per-week</th>\n",
       "      <th>nativa-country</th>\n",
       "      <th>income</th>\n",
       "    </tr>\n",
       "  </thead>\n",
       "  <tbody>\n",
       "    <tr>\n",
       "      <td>32556</td>\n",
       "      <td>27</td>\n",
       "      <td>Private</td>\n",
       "      <td>257302</td>\n",
       "      <td>Assoc-acdm</td>\n",
       "      <td>12</td>\n",
       "      <td>Married-civ-spouse</td>\n",
       "      <td>Tech-support</td>\n",
       "      <td>Wife</td>\n",
       "      <td>White</td>\n",
       "      <td>Female</td>\n",
       "      <td>0</td>\n",
       "      <td>0</td>\n",
       "      <td>38</td>\n",
       "      <td>United-States</td>\n",
       "      <td>&lt;=50K</td>\n",
       "    </tr>\n",
       "    <tr>\n",
       "      <td>32557</td>\n",
       "      <td>40</td>\n",
       "      <td>Private</td>\n",
       "      <td>154374</td>\n",
       "      <td>HS-grad</td>\n",
       "      <td>9</td>\n",
       "      <td>Married-civ-spouse</td>\n",
       "      <td>Machine-op-inspct</td>\n",
       "      <td>Husband</td>\n",
       "      <td>White</td>\n",
       "      <td>Male</td>\n",
       "      <td>0</td>\n",
       "      <td>0</td>\n",
       "      <td>40</td>\n",
       "      <td>United-States</td>\n",
       "      <td>&gt;50K</td>\n",
       "    </tr>\n",
       "    <tr>\n",
       "      <td>32558</td>\n",
       "      <td>58</td>\n",
       "      <td>Private</td>\n",
       "      <td>151910</td>\n",
       "      <td>HS-grad</td>\n",
       "      <td>9</td>\n",
       "      <td>Widowed</td>\n",
       "      <td>Adm-clerical</td>\n",
       "      <td>Unmarried</td>\n",
       "      <td>White</td>\n",
       "      <td>Female</td>\n",
       "      <td>0</td>\n",
       "      <td>0</td>\n",
       "      <td>40</td>\n",
       "      <td>United-States</td>\n",
       "      <td>&lt;=50K</td>\n",
       "    </tr>\n",
       "    <tr>\n",
       "      <td>32559</td>\n",
       "      <td>22</td>\n",
       "      <td>Private</td>\n",
       "      <td>201490</td>\n",
       "      <td>HS-grad</td>\n",
       "      <td>9</td>\n",
       "      <td>Never-married</td>\n",
       "      <td>Adm-clerical</td>\n",
       "      <td>Own-child</td>\n",
       "      <td>White</td>\n",
       "      <td>Male</td>\n",
       "      <td>0</td>\n",
       "      <td>0</td>\n",
       "      <td>20</td>\n",
       "      <td>United-States</td>\n",
       "      <td>&lt;=50K</td>\n",
       "    </tr>\n",
       "    <tr>\n",
       "      <td>32560</td>\n",
       "      <td>52</td>\n",
       "      <td>Self-emp-inc</td>\n",
       "      <td>287927</td>\n",
       "      <td>HS-grad</td>\n",
       "      <td>9</td>\n",
       "      <td>Married-civ-spouse</td>\n",
       "      <td>Exec-managerial</td>\n",
       "      <td>Wife</td>\n",
       "      <td>White</td>\n",
       "      <td>Female</td>\n",
       "      <td>15024</td>\n",
       "      <td>0</td>\n",
       "      <td>40</td>\n",
       "      <td>United-States</td>\n",
       "      <td>&gt;50K</td>\n",
       "    </tr>\n",
       "  </tbody>\n",
       "</table>\n",
       "</div>"
      ],
      "text/plain": [
       "       age      workclass  fnlwgt    education  education-num  \\\n",
       "32556   27        Private  257302   Assoc-acdm             12   \n",
       "32557   40        Private  154374      HS-grad              9   \n",
       "32558   58        Private  151910      HS-grad              9   \n",
       "32559   22        Private  201490      HS-grad              9   \n",
       "32560   52   Self-emp-inc  287927      HS-grad              9   \n",
       "\n",
       "            marital-status          occupation relationship    race      sex  \\\n",
       "32556   Married-civ-spouse        Tech-support         Wife   White   Female   \n",
       "32557   Married-civ-spouse   Machine-op-inspct      Husband   White     Male   \n",
       "32558              Widowed        Adm-clerical    Unmarried   White   Female   \n",
       "32559        Never-married        Adm-clerical    Own-child   White     Male   \n",
       "32560   Married-civ-spouse     Exec-managerial         Wife   White   Female   \n",
       "\n",
       "       capital-gain  capital-loss  hours-per-week  nativa-country  income  \n",
       "32556             0             0              38   United-States   <=50K  \n",
       "32557             0             0              40   United-States    >50K  \n",
       "32558             0             0              40   United-States   <=50K  \n",
       "32559             0             0              20   United-States   <=50K  \n",
       "32560         15024             0              40   United-States    >50K  "
      ]
     },
     "execution_count": 94,
     "metadata": {},
     "output_type": "execute_result"
    }
   ],
   "source": [
    "census.tail()"
   ]
  },
  {
   "cell_type": "code",
   "execution_count": 95,
   "metadata": {},
   "outputs": [
    {
     "data": {
      "text/plain": [
       "age               0\n",
       "workclass         0\n",
       "fnlwgt            0\n",
       "education         0\n",
       "education-num     0\n",
       "marital-status    0\n",
       "occupation        0\n",
       "relationship      0\n",
       "race              0\n",
       "sex               0\n",
       "capital-gain      0\n",
       "capital-loss      0\n",
       "hours-per-week    0\n",
       "nativa-country    0\n",
       "income            0\n",
       "dtype: int64"
      ]
     },
     "execution_count": 95,
     "metadata": {},
     "output_type": "execute_result"
    }
   ],
   "source": [
    "# zero null values\n",
    "census.isnull().sum()"
   ]
  },
  {
   "cell_type": "code",
   "execution_count": 96,
   "metadata": {},
   "outputs": [
    {
     "data": {
      "text/plain": [
       "(32561, 15)"
      ]
     },
     "execution_count": 96,
     "metadata": {},
     "output_type": "execute_result"
    }
   ],
   "source": [
    "# shape of dataset \n",
    "census.shape  ##32561 rows * 15 columns"
   ]
  },
  {
   "cell_type": "code",
   "execution_count": 97,
   "metadata": {},
   "outputs": [
    {
     "data": {
      "text/plain": [
       "<matplotlib.axes._subplots.AxesSubplot at 0x16b68bd9988>"
      ]
     },
     "execution_count": 97,
     "metadata": {},
     "output_type": "execute_result"
    },
    {
     "data": {
      "image/png": "[encoded data removed]",
      "text/plain": [
       "<Figure size 432x288 with 2 Axes>"
      ]
     },
     "metadata": {
      "needs_background": "light"
     },
     "output_type": "display_data"
    }
   ],
   "source": [
    "#heatmap for null values\n",
    "sns.heatmap(census.isnull())"
   ]
  },
  {
   "cell_type": "code",
   "execution_count": 98,
   "metadata": {},
   "outputs": [
    {
     "data": {
      "text/html": [
       "<div>\n",
       "<style scoped>\n",
       "    .dataframe tbody tr th:only-of-type {\n",
       "        vertical-align: middle;\n",
       "    }\n",
       "\n",
       "    .dataframe tbody tr th {\n",
       "        vertical-align: top;\n",
       "    }\n",
       "\n",
       "    .dataframe thead th {\n",
       "        text-align: right;\n",
       "    }\n",
       "</style>\n",
       "<table border=\"1\" class=\"dataframe\">\n",
       "  <thead>\n",
       "    <tr style=\"text-align: right;\">\n",
       "      <th></th>\n",
       "      <th>age</th>\n",
       "      <th>fnlwgt</th>\n",
       "      <th>education-num</th>\n",
       "      <th>capital-gain</th>\n",
       "      <th>capital-loss</th>\n",
       "      <th>hours-per-week</th>\n",
       "    </tr>\n",
       "  </thead>\n",
       "  <tbody>\n",
       "    <tr>\n",
       "      <td>age</td>\n",
       "      <td>1.000000</td>\n",
       "      <td>-0.076646</td>\n",
       "      <td>0.036527</td>\n",
       "      <td>0.077674</td>\n",
       "      <td>0.057775</td>\n",
       "      <td>0.068756</td>\n",
       "    </tr>\n",
       "    <tr>\n",
       "      <td>fnlwgt</td>\n",
       "      <td>-0.076646</td>\n",
       "      <td>1.000000</td>\n",
       "      <td>-0.043195</td>\n",
       "      <td>0.000432</td>\n",
       "      <td>-0.010252</td>\n",
       "      <td>-0.018768</td>\n",
       "    </tr>\n",
       "    <tr>\n",
       "      <td>education-num</td>\n",
       "      <td>0.036527</td>\n",
       "      <td>-0.043195</td>\n",
       "      <td>1.000000</td>\n",
       "      <td>0.122630</td>\n",
       "      <td>0.079923</td>\n",
       "      <td>0.148123</td>\n",
       "    </tr>\n",
       "    <tr>\n",
       "      <td>capital-gain</td>\n",
       "      <td>0.077674</td>\n",
       "      <td>0.000432</td>\n",
       "      <td>0.122630</td>\n",
       "      <td>1.000000</td>\n",
       "      <td>-0.031615</td>\n",
       "      <td>0.078409</td>\n",
       "    </tr>\n",
       "    <tr>\n",
       "      <td>capital-loss</td>\n",
       "      <td>0.057775</td>\n",
       "      <td>-0.010252</td>\n",
       "      <td>0.079923</td>\n",
       "      <td>-0.031615</td>\n",
       "      <td>1.000000</td>\n",
       "      <td>0.054256</td>\n",
       "    </tr>\n",
       "    <tr>\n",
       "      <td>hours-per-week</td>\n",
       "      <td>0.068756</td>\n",
       "      <td>-0.018768</td>\n",
       "      <td>0.148123</td>\n",
       "      <td>0.078409</td>\n",
       "      <td>0.054256</td>\n",
       "      <td>1.000000</td>\n",
       "    </tr>\n",
       "  </tbody>\n",
       "</table>\n",
       "</div>"
      ],
      "text/plain": [
       "                     age    fnlwgt  education-num  capital-gain  capital-loss  \\\n",
       "age             1.000000 -0.076646       0.036527      0.077674      0.057775   \n",
       "fnlwgt         -0.076646  1.000000      -0.043195      0.000432     -0.010252   \n",
       "education-num   0.036527 -0.043195       1.000000      0.122630      0.079923   \n",
       "capital-gain    0.077674  0.000432       0.122630      1.000000     -0.031615   \n",
       "capital-loss    0.057775 -0.010252       0.079923     -0.031615      1.000000   \n",
       "hours-per-week  0.068756 -0.018768       0.148123      0.078409      0.054256   \n",
       "\n",
       "                hours-per-week  \n",
       "age                   0.068756  \n",
       "fnlwgt               -0.018768  \n",
       "education-num         0.148123  \n",
       "capital-gain          0.078409  \n",
       "capital-loss          0.054256  \n",
       "hours-per-week        1.000000  "
      ]
     },
     "execution_count": 98,
     "metadata": {},
     "output_type": "execute_result"
    }
   ],
   "source": [
    "#correlation of census\n",
    "census.corr()"
   ]
  },
  {
   "cell_type": "code",
   "execution_count": 99,
   "metadata": {},
   "outputs": [
    {
     "data": {
      "text/plain": [
       "<matplotlib.axes._subplots.AxesSubplot at 0x16b68dde8c8>"
      ]
     },
     "execution_count": 99,
     "metadata": {},
     "output_type": "execute_result"
    },
    {
     "data": {
      "image/png": "[encoded data removed]",
      "text/plain": [
       "<Figure size 432x288 with 2 Axes>"
      ]
     },
     "metadata": {
      "needs_background": "light"
     },
     "output_type": "display_data"
    }
   ],
   "source": [
    "sns.heatmap(census.corr())  #heatmap for correlation of dataset"
   ]
  },
  {
   "cell_type": "code",
   "execution_count": 100,
   "metadata": {},
   "outputs": [
    {
     "name": "stdout",
     "output_type": "stream",
     "text": [
      "<class 'pandas.core.frame.DataFrame'>\n",
      "RangeIndex: 32561 entries, 0 to 32560\n",
      "Data columns (total 15 columns):\n",
      "age               32561 non-null int64\n",
      "workclass         32561 non-null object\n",
      "fnlwgt            32561 non-null int64\n",
      "education         32561 non-null object\n",
      "education-num     32561 non-null int64\n",
      "marital-status    32561 non-null object\n",
      "occupation        32561 non-null object\n",
      "relationship      32561 non-null object\n",
      "race              32561 non-null object\n",
      "sex               32561 non-null object\n",
      "capital-gain      32561 non-null int64\n",
      "capital-loss      32561 non-null int64\n",
      "hours-per-week    32561 non-null int64\n",
      "nativa-country    32561 non-null object\n",
      "income            32561 non-null object\n",
      "dtypes: int64(6), object(9)\n",
      "memory usage: 3.7+ MB\n"
     ]
    }
   ],
   "source": [
    "census.info()"
   ]
  },
  {
   "cell_type": "code",
   "execution_count": 101,
   "metadata": {},
   "outputs": [
    {
     "data": {
      "text/plain": [
       "age                int64\n",
       "workclass         object\n",
       "fnlwgt             int64\n",
       "education         object\n",
       "education-num      int64\n",
       "marital-status    object\n",
       "occupation        object\n",
       "relationship      object\n",
       "race              object\n",
       "sex               object\n",
       "capital-gain       int64\n",
       "capital-loss       int64\n",
       "hours-per-week     int64\n",
       "nativa-country    object\n",
       "income            object\n",
       "dtype: object"
      ]
     },
     "execution_count": 101,
     "metadata": {},
     "output_type": "execute_result"
    }
   ],
   "source": [
    "# data types of dataset\n",
    "census.dtypes"
   ]
  },
  {
   "cell_type": "code",
   "execution_count": 102,
   "metadata": {},
   "outputs": [
    {
     "data": {
      "text/html": [
       "<div>\n",
       "<style scoped>\n",
       "    .dataframe tbody tr th:only-of-type {\n",
       "        vertical-align: middle;\n",
       "    }\n",
       "\n",
       "    .dataframe tbody tr th {\n",
       "        vertical-align: top;\n",
       "    }\n",
       "\n",
       "    .dataframe thead th {\n",
       "        text-align: right;\n",
       "    }\n",
       "</style>\n",
       "<table border=\"1\" class=\"dataframe\">\n",
       "  <thead>\n",
       "    <tr style=\"text-align: right;\">\n",
       "      <th></th>\n",
       "      <th>age</th>\n",
       "      <th>fnlwgt</th>\n",
       "      <th>education-num</th>\n",
       "      <th>capital-gain</th>\n",
       "      <th>capital-loss</th>\n",
       "      <th>hours-per-week</th>\n",
       "    </tr>\n",
       "  </thead>\n",
       "  <tbody>\n",
       "    <tr>\n",
       "      <td>count</td>\n",
       "      <td>32561.000000</td>\n",
       "      <td>3.256100e+04</td>\n",
       "      <td>32561.000000</td>\n",
       "      <td>32561.000000</td>\n",
       "      <td>32561.000000</td>\n",
       "      <td>32561.000000</td>\n",
       "    </tr>\n",
       "    <tr>\n",
       "      <td>mean</td>\n",
       "      <td>38.581647</td>\n",
       "      <td>1.897784e+05</td>\n",
       "      <td>10.080679</td>\n",
       "      <td>1077.648844</td>\n",
       "      <td>87.303830</td>\n",
       "      <td>40.437456</td>\n",
       "    </tr>\n",
       "    <tr>\n",
       "      <td>std</td>\n",
       "      <td>13.640433</td>\n",
       "      <td>1.055500e+05</td>\n",
       "      <td>2.572720</td>\n",
       "      <td>7385.292085</td>\n",
       "      <td>402.960219</td>\n",
       "      <td>12.347429</td>\n",
       "    </tr>\n",
       "    <tr>\n",
       "      <td>min</td>\n",
       "      <td>17.000000</td>\n",
       "      <td>1.228500e+04</td>\n",
       "      <td>1.000000</td>\n",
       "      <td>0.000000</td>\n",
       "      <td>0.000000</td>\n",
       "      <td>1.000000</td>\n",
       "    </tr>\n",
       "    <tr>\n",
       "      <td>25%</td>\n",
       "      <td>28.000000</td>\n",
       "      <td>1.178270e+05</td>\n",
       "      <td>9.000000</td>\n",
       "      <td>0.000000</td>\n",
       "      <td>0.000000</td>\n",
       "      <td>40.000000</td>\n",
       "    </tr>\n",
       "    <tr>\n",
       "      <td>50%</td>\n",
       "      <td>37.000000</td>\n",
       "      <td>1.783560e+05</td>\n",
       "      <td>10.000000</td>\n",
       "      <td>0.000000</td>\n",
       "      <td>0.000000</td>\n",
       "      <td>40.000000</td>\n",
       "    </tr>\n",
       "    <tr>\n",
       "      <td>75%</td>\n",
       "      <td>48.000000</td>\n",
       "      <td>2.370510e+05</td>\n",
       "      <td>12.000000</td>\n",
       "      <td>0.000000</td>\n",
       "      <td>0.000000</td>\n",
       "      <td>45.000000</td>\n",
       "    </tr>\n",
       "    <tr>\n",
       "      <td>max</td>\n",
       "      <td>90.000000</td>\n",
       "      <td>1.484705e+06</td>\n",
       "      <td>16.000000</td>\n",
       "      <td>99999.000000</td>\n",
       "      <td>4356.000000</td>\n",
       "      <td>99.000000</td>\n",
       "    </tr>\n",
       "  </tbody>\n",
       "</table>\n",
       "</div>"
      ],
      "text/plain": [
       "                age        fnlwgt  education-num  capital-gain  capital-loss  \\\n",
       "count  32561.000000  3.256100e+04   32561.000000  32561.000000  32561.000000   \n",
       "mean      38.581647  1.897784e+05      10.080679   1077.648844     87.303830   \n",
       "std       13.640433  1.055500e+05       2.572720   7385.292085    402.960219   \n",
       "min       17.000000  1.228500e+04       1.000000      0.000000      0.000000   \n",
       "25%       28.000000  1.178270e+05       9.000000      0.000000      0.000000   \n",
       "50%       37.000000  1.783560e+05      10.000000      0.000000      0.000000   \n",
       "75%       48.000000  2.370510e+05      12.000000      0.000000      0.000000   \n",
       "max       90.000000  1.484705e+06      16.000000  99999.000000   4356.000000   \n",
       "\n",
       "       hours-per-week  \n",
       "count    32561.000000  \n",
       "mean        40.437456  \n",
       "std         12.347429  \n",
       "min          1.000000  \n",
       "25%         40.000000  \n",
       "50%         40.000000  \n",
       "75%         45.000000  \n",
       "max         99.000000  "
      ]
     },
     "execution_count": 102,
     "metadata": {},
     "output_type": "execute_result"
    }
   ],
   "source": [
    "census.describe()"
   ]
  },
  {
   "cell_type": "code",
   "execution_count": 103,
   "metadata": {},
   "outputs": [
    {
     "data": {
      "text/plain": [
       "age                  73\n",
       "workclass             9\n",
       "fnlwgt            21648\n",
       "education            16\n",
       "education-num        16\n",
       "marital-status        7\n",
       "occupation           15\n",
       "relationship          6\n",
       "race                  5\n",
       "sex                   2\n",
       "capital-gain        119\n",
       "capital-loss         92\n",
       "hours-per-week       94\n",
       "nativa-country       42\n",
       "income                2\n",
       "dtype: int64"
      ]
     },
     "execution_count": 103,
     "metadata": {},
     "output_type": "execute_result"
    }
   ],
   "source": [
    "census.nunique()"
   ]
  },
  {
   "cell_type": "code",
   "execution_count": 104,
   "metadata": {},
   "outputs": [
    {
     "data": {
      "text/plain": [
       "age                0.558743\n",
       "fnlwgt             1.446980\n",
       "education-num     -0.311676\n",
       "capital-gain      11.953848\n",
       "capital-loss       4.594629\n",
       "hours-per-week     0.227643\n",
       "dtype: float64"
      ]
     },
     "execution_count": 104,
     "metadata": {},
     "output_type": "execute_result"
    }
   ],
   "source": [
    "#skewness of dataset\n",
    "census.skew()"
   ]
  },
  {
   "cell_type": "code",
   "execution_count": 105,
   "metadata": {},
   "outputs": [],
   "source": [
    "#removing skewness\n",
    "census['capital-gain']=np.log1p(census['capital-gain'])\n",
    "census['capital-loss']=np.log1p(census['capital-loss'])\n",
    "census['fnlwgt']=np.log1p(census['fnlwgt'])"
   ]
  },
  {
   "cell_type": "code",
   "execution_count": 106,
   "metadata": {},
   "outputs": [
    {
     "data": {
      "text/plain": [
       "age               0.558743\n",
       "fnlwgt           -0.842461\n",
       "education-num    -0.311676\n",
       "capital-gain      3.096144\n",
       "capital-loss      4.307537\n",
       "hours-per-week    0.227643\n",
       "dtype: float64"
      ]
     },
     "execution_count": 106,
     "metadata": {},
     "output_type": "execute_result"
    }
   ],
   "source": [
    "#skewness removed\n",
    "census.skew()"
   ]
  },
  {
   "cell_type": "code",
   "execution_count": 107,
   "metadata": {},
   "outputs": [],
   "source": [
    "#label encoding the object varibales\n",
    "\n",
    "from sklearn.preprocessing import LabelEncoder\n",
    "le=LabelEncoder()"
   ]
  },
  {
   "cell_type": "code",
   "execution_count": 108,
   "metadata": {},
   "outputs": [],
   "source": [
    "census['income']=le.fit_transform(census['income'])"
   ]
  },
  {
   "cell_type": "code",
   "execution_count": 109,
   "metadata": {},
   "outputs": [
    {
     "data": {
      "text/html": [
       "<div>\n",
       "<style scoped>\n",
       "    .dataframe tbody tr th:only-of-type {\n",
       "        vertical-align: middle;\n",
       "    }\n",
       "\n",
       "    .dataframe tbody tr th {\n",
       "        vertical-align: top;\n",
       "    }\n",
       "\n",
       "    .dataframe thead th {\n",
       "        text-align: right;\n",
       "    }\n",
       "</style>\n",
       "<table border=\"1\" class=\"dataframe\">\n",
       "  <thead>\n",
       "    <tr style=\"text-align: right;\">\n",
       "      <th></th>\n",
       "      <th>age</th>\n",
       "      <th>workclass</th>\n",
       "      <th>fnlwgt</th>\n",
       "      <th>education</th>\n",
       "      <th>education-num</th>\n",
       "      <th>marital-status</th>\n",
       "      <th>occupation</th>\n",
       "      <th>relationship</th>\n",
       "      <th>race</th>\n",
       "      <th>sex</th>\n",
       "      <th>capital-gain</th>\n",
       "      <th>capital-loss</th>\n",
       "      <th>hours-per-week</th>\n",
       "      <th>nativa-country</th>\n",
       "      <th>income</th>\n",
       "    </tr>\n",
       "  </thead>\n",
       "  <tbody>\n",
       "    <tr>\n",
       "      <td>0</td>\n",
       "      <td>39</td>\n",
       "      <td>State-gov</td>\n",
       "      <td>11.258253</td>\n",
       "      <td>Bachelors</td>\n",
       "      <td>13</td>\n",
       "      <td>Never-married</td>\n",
       "      <td>Adm-clerical</td>\n",
       "      <td>Not-in-family</td>\n",
       "      <td>White</td>\n",
       "      <td>Male</td>\n",
       "      <td>7.684784</td>\n",
       "      <td>0.0</td>\n",
       "      <td>40</td>\n",
       "      <td>United-States</td>\n",
       "      <td>0</td>\n",
       "    </tr>\n",
       "    <tr>\n",
       "      <td>1</td>\n",
       "      <td>50</td>\n",
       "      <td>Self-emp-not-inc</td>\n",
       "      <td>11.330348</td>\n",
       "      <td>Bachelors</td>\n",
       "      <td>13</td>\n",
       "      <td>Married-civ-spouse</td>\n",
       "      <td>Exec-managerial</td>\n",
       "      <td>Husband</td>\n",
       "      <td>White</td>\n",
       "      <td>Male</td>\n",
       "      <td>0.000000</td>\n",
       "      <td>0.0</td>\n",
       "      <td>13</td>\n",
       "      <td>United-States</td>\n",
       "      <td>0</td>\n",
       "    </tr>\n",
       "    <tr>\n",
       "      <td>2</td>\n",
       "      <td>38</td>\n",
       "      <td>Private</td>\n",
       "      <td>12.281398</td>\n",
       "      <td>HS-grad</td>\n",
       "      <td>9</td>\n",
       "      <td>Divorced</td>\n",
       "      <td>Handlers-cleaners</td>\n",
       "      <td>Not-in-family</td>\n",
       "      <td>White</td>\n",
       "      <td>Male</td>\n",
       "      <td>0.000000</td>\n",
       "      <td>0.0</td>\n",
       "      <td>40</td>\n",
       "      <td>United-States</td>\n",
       "      <td>0</td>\n",
       "    </tr>\n",
       "    <tr>\n",
       "      <td>3</td>\n",
       "      <td>53</td>\n",
       "      <td>Private</td>\n",
       "      <td>12.366157</td>\n",
       "      <td>11th</td>\n",
       "      <td>7</td>\n",
       "      <td>Married-civ-spouse</td>\n",
       "      <td>Handlers-cleaners</td>\n",
       "      <td>Husband</td>\n",
       "      <td>Black</td>\n",
       "      <td>Male</td>\n",
       "      <td>0.000000</td>\n",
       "      <td>0.0</td>\n",
       "      <td>40</td>\n",
       "      <td>United-States</td>\n",
       "      <td>0</td>\n",
       "    </tr>\n",
       "    <tr>\n",
       "      <td>4</td>\n",
       "      <td>28</td>\n",
       "      <td>Private</td>\n",
       "      <td>12.732013</td>\n",
       "      <td>Bachelors</td>\n",
       "      <td>13</td>\n",
       "      <td>Married-civ-spouse</td>\n",
       "      <td>Prof-specialty</td>\n",
       "      <td>Wife</td>\n",
       "      <td>Black</td>\n",
       "      <td>Female</td>\n",
       "      <td>0.000000</td>\n",
       "      <td>0.0</td>\n",
       "      <td>40</td>\n",
       "      <td>Cuba</td>\n",
       "      <td>0</td>\n",
       "    </tr>\n",
       "  </tbody>\n",
       "</table>\n",
       "</div>"
      ],
      "text/plain": [
       "   age          workclass     fnlwgt   education  education-num  \\\n",
       "0   39          State-gov  11.258253   Bachelors             13   \n",
       "1   50   Self-emp-not-inc  11.330348   Bachelors             13   \n",
       "2   38            Private  12.281398     HS-grad              9   \n",
       "3   53            Private  12.366157        11th              7   \n",
       "4   28            Private  12.732013   Bachelors             13   \n",
       "\n",
       "        marital-status          occupation    relationship    race      sex  \\\n",
       "0        Never-married        Adm-clerical   Not-in-family   White     Male   \n",
       "1   Married-civ-spouse     Exec-managerial         Husband   White     Male   \n",
       "2             Divorced   Handlers-cleaners   Not-in-family   White     Male   \n",
       "3   Married-civ-spouse   Handlers-cleaners         Husband   Black     Male   \n",
       "4   Married-civ-spouse      Prof-specialty            Wife   Black   Female   \n",
       "\n",
       "   capital-gain  capital-loss  hours-per-week  nativa-country  income  \n",
       "0      7.684784           0.0              40   United-States       0  \n",
       "1      0.000000           0.0              13   United-States       0  \n",
       "2      0.000000           0.0              40   United-States       0  \n",
       "3      0.000000           0.0              40   United-States       0  \n",
       "4      0.000000           0.0              40            Cuba       0  "
      ]
     },
     "execution_count": 109,
     "metadata": {},
     "output_type": "execute_result"
    }
   ],
   "source": [
    "census.head()\n"
   ]
  },
  {
   "cell_type": "code",
   "execution_count": 110,
   "metadata": {},
   "outputs": [
    {
     "data": {
      "text/plain": [
       "<matplotlib.axes._subplots.AxesSubplot at 0x16b5dc7e888>"
      ]
     },
     "execution_count": 110,
     "metadata": {},
     "output_type": "execute_result"
    },
    {
     "data": {
      "image/png": "[encoded data removed]",
      "text/plain": [
       "<Figure size 432x288 with 1 Axes>"
      ]
     },
     "metadata": {
      "needs_background": "light"
     },
     "output_type": "display_data"
    }
   ],
   "source": [
    "sns.countplot(census['income'])\n",
    "#0=less than or equals to 50 k\n",
    "#1 = greater than 50 k"
   ]
  },
  {
   "cell_type": "code",
   "execution_count": 111,
   "metadata": {},
   "outputs": [],
   "source": [
    "## less than 50k income are wat more than greater ones"
   ]
  },
  {
   "cell_type": "code",
   "execution_count": 112,
   "metadata": {},
   "outputs": [
    {
     "data": {
      "text/plain": [
       "<seaborn.axisgrid.PairGrid at 0x16b74ffd5c8>"
      ]
     },
     "execution_count": 112,
     "metadata": {},
     "output_type": "execute_result"
    },
    {
     "data": {
      "image/png": "[encoded data removed]",
      "text/plain": [
       "<Figure size 504x360 with 2 Axes>"
      ]
     },
     "metadata": {
      "needs_background": "light"
     },
     "output_type": "display_data"
    }
   ],
   "source": [
    "sns.pairplot(census,x_vars=['capital-gain','capital-loss'],y_vars='income',size=5,aspect=0.7,kind='reg')"
   ]
  },
  {
   "cell_type": "code",
   "execution_count": 113,
   "metadata": {},
   "outputs": [
    {
     "data": {
      "text/plain": [
       "<matplotlib.axes._subplots.AxesSubplot at 0x16b6207be88>"
      ]
     },
     "execution_count": 113,
     "metadata": {},
     "output_type": "execute_result"
    },
    {
     "data": {
      "image/png": "[encoded data removed]",
      "text/plain": [
       "<Figure size 432x288 with 1 Axes>"
      ]
     },
     "metadata": {
      "needs_background": "light"
     },
     "output_type": "display_data"
    }
   ],
   "source": [
    "sns.barplot(x='income',y='capital-gain',data=census)\n",
    "\n",
    "#income having >50k are having good capital gain as compared to income<50k "
   ]
  },
  {
   "cell_type": "code",
   "execution_count": 114,
   "metadata": {},
   "outputs": [
    {
     "data": {
      "text/plain": [
       "<matplotlib.axes._subplots.AxesSubplot at 0x16b716d35c8>"
      ]
     },
     "execution_count": 114,
     "metadata": {},
     "output_type": "execute_result"
    },
    {
     "data": {
      "image/png": "[encoded data removed]",
      "text/plain": [
       "<Figure size 432x288 with 1 Axes>"
      ]
     },
     "metadata": {
      "needs_background": "light"
     },
     "output_type": "display_data"
    }
   ],
   "source": [
    "sns.barplot(x='income',y='capital-loss',data=census)"
   ]
  },
  {
   "cell_type": "code",
   "execution_count": 115,
   "metadata": {},
   "outputs": [],
   "source": [
    "# also having greater income leads to much capital loss also "
   ]
  },
  {
   "cell_type": "code",
   "execution_count": 116,
   "metadata": {},
   "outputs": [
    {
     "data": {
      "text/plain": [
       "<matplotlib.axes._subplots.AxesSubplot at 0x16b7170fb08>"
      ]
     },
     "execution_count": 116,
     "metadata": {},
     "output_type": "execute_result"
    },
    {
     "data": {
      "image/png": "[encoded data removed]",
      "text/plain": [
       "<Figure size 432x288 with 1 Axes>"
      ]
     },
     "metadata": {
      "needs_background": "light"
     },
     "output_type": "display_data"
    }
   ],
   "source": [
    "sns.boxplot(x='income',y='education-num',data=census)"
   ]
  },
  {
   "cell_type": "code",
   "execution_count": 117,
   "metadata": {},
   "outputs": [
    {
     "data": {
      "text/plain": [
       "<matplotlib.axes._subplots.AxesSubplot at 0x16b71732288>"
      ]
     },
     "execution_count": 117,
     "metadata": {},
     "output_type": "execute_result"
    },
    {
     "data": {
      "image/png": "[encoded data removed]",
      "text/plain": [
       "<Figure size 432x288 with 1 Axes>"
      ]
     },
     "metadata": {
      "needs_background": "light"
     },
     "output_type": "display_data"
    }
   ],
   "source": [
    "sns.boxplot(x='income',y='fnlwgt',data=census)"
   ]
  },
  {
   "cell_type": "code",
   "execution_count": 118,
   "metadata": {},
   "outputs": [
    {
     "data": {
      "text/plain": [
       "<matplotlib.axes._subplots.AxesSubplot at 0x16b67f81b88>"
      ]
     },
     "execution_count": 118,
     "metadata": {},
     "output_type": "execute_result"
    },
    {
     "data": {
      "image/png": "[encoded data removed]",
      "text/plain": [
       "<Figure size 432x288 with 1 Axes>"
      ]
     },
     "metadata": {
      "needs_background": "light"
     },
     "output_type": "display_data"
    }
   ],
   "source": [
    "sns.barplot(x='sex',y='income',data=census) #male have higher income >50k "
   ]
  },
  {
   "cell_type": "code",
   "execution_count": 119,
   "metadata": {},
   "outputs": [
    {
     "data": {
      "text/plain": [
       "<matplotlib.axes._subplots.AxesSubplot at 0x16b68067048>"
      ]
     },
     "execution_count": 119,
     "metadata": {},
     "output_type": "execute_result"
    },
    {
     "data": {
      "image/png": "[encoded data removed]",
      "text/plain": [
       "<Figure size 432x288 with 1 Axes>"
      ]
     },
     "metadata": {
      "needs_background": "light"
     },
     "output_type": "display_data"
    }
   ],
   "source": [
    "sns.barplot(x='income'\n",
    "            ,y='workclass',data=census)\n",
    "\n",
    "#self employed-inc have greater income amongst all , while private workers have the lowest >50k incomes"
   ]
  },
  {
   "cell_type": "code",
   "execution_count": 120,
   "metadata": {},
   "outputs": [
    {
     "data": {
      "text/plain": [
       "<matplotlib.axes._subplots.AxesSubplot at 0x16b682a1388>"
      ]
     },
     "execution_count": 120,
     "metadata": {},
     "output_type": "execute_result"
    },
    {
     "data": {
      "image/png": "[encoded data removed]",
      "text/plain": [
       "<Figure size 432x288 with 1 Axes>"
      ]
     },
     "metadata": {
      "needs_background": "light"
     },
     "output_type": "display_data"
    }
   ],
   "source": [
    "sns.barplot(x='income'\n",
    "            ,y='education',data=census)\n",
    "\n",
    "##doctorate and professor have a great income while preschool,and even schooled only have the lowest income "
   ]
  },
  {
   "cell_type": "code",
   "execution_count": 121,
   "metadata": {},
   "outputs": [
    {
     "data": {
      "text/plain": [
       "<matplotlib.axes._subplots.AxesSubplot at 0x16b74955c88>"
      ]
     },
     "execution_count": 121,
     "metadata": {},
     "output_type": "execute_result"
    },
    {
     "data": {
      "image/png": "[encoded data removed]",
      "text/plain": [
       "<Figure size 432x288 with 1 Axes>"
      ]
     },
     "metadata": {
      "needs_background": "light"
     },
     "output_type": "display_data"
    }
   ],
   "source": [
    "sns.boxplot(y='income'\n",
    "            ,x='race',data=census)"
   ]
  },
  {
   "cell_type": "code",
   "execution_count": 122,
   "metadata": {},
   "outputs": [
    {
     "data": {
      "text/plain": [
       "<matplotlib.axes._subplots.AxesSubplot at 0x16b69edfc88>"
      ]
     },
     "execution_count": 122,
     "metadata": {},
     "output_type": "execute_result"
    },
    {
     "data": {
      "image/png": "[encoded data removed]",
      "text/plain": [
       "<Figure size 432x288 with 1 Axes>"
      ]
     },
     "metadata": {
      "needs_background": "light"
     },
     "output_type": "display_data"
    }
   ],
   "source": [
    "sns.barplot(x='income'\n",
    "            ,y='occupation',data=census)"
   ]
  },
  {
   "cell_type": "code",
   "execution_count": 123,
   "metadata": {},
   "outputs": [
    {
     "data": {
      "text/plain": [
       "<Figure size 1440x1440 with 0 Axes>"
      ]
     },
     "metadata": {},
     "output_type": "display_data"
    },
    {
     "data": {
      "image/png": "[encoded data removed]",
      "text/plain": [
       "<Figure size 435.75x360 with 1 Axes>"
      ]
     },
     "metadata": {
      "needs_background": "light"
     },
     "output_type": "display_data"
    }
   ],
   "source": [
    "plt.figure(figsize=(20,20))\n",
    "sns.factorplot(x='income',y='nativa-country',data=census,hue='sex')\n",
    "plt.show()"
   ]
  },
  {
   "cell_type": "code",
   "execution_count": 124,
   "metadata": {},
   "outputs": [
    {
     "data": {
      "image/png": "[encoded data removed]",
      "text/plain": [
       "<Figure size 720x864 with 1 Axes>"
      ]
     },
     "metadata": {
      "needs_background": "light"
     },
     "output_type": "display_data"
    }
   ],
   "source": [
    "plt.figure(figsize=(10,12))\n",
    "sns.barplot(x='income',y='nativa-country',data=census)\n",
    "plt.show()"
   ]
  },
  {
   "cell_type": "code",
   "execution_count": 125,
   "metadata": {},
   "outputs": [
    {
     "data": {
      "text/plain": [
       "<matplotlib.axes._subplots.AxesSubplot at 0x16b5db1e208>"
      ]
     },
     "execution_count": 125,
     "metadata": {},
     "output_type": "execute_result"
    },
    {
     "data": {
      "image/png": "[encoded data removed]",
      "text/plain": [
       "<Figure size 432x288 with 1 Axes>"
      ]
     },
     "metadata": {
      "needs_background": "light"
     },
     "output_type": "display_data"
    }
   ],
   "source": [
    "sns.boxplot(x='income',y='age',data=census)\n",
    "\n",
    "#higherage=higher income"
   ]
  },
  {
   "cell_type": "code",
   "execution_count": 126,
   "metadata": {},
   "outputs": [
    {
     "data": {
      "text/plain": [
       "<matplotlib.axes._subplots.AxesSubplot at 0x16b5dc25788>"
      ]
     },
     "execution_count": 126,
     "metadata": {},
     "output_type": "execute_result"
    },
    {
     "data": {
      "image/png": "[encoded data removed]",
      "text/plain": [
       "<Figure size 432x288 with 1 Axes>"
      ]
     },
     "metadata": {
      "needs_background": "light"
     },
     "output_type": "display_data"
    }
   ],
   "source": [
    "sns.lineplot(x='income',y='age',data=census)"
   ]
  },
  {
   "cell_type": "code",
   "execution_count": 127,
   "metadata": {},
   "outputs": [
    {
     "data": {
      "image/png": "[encoded data removed]",
      "text/plain": [
       "<Figure size 720x720 with 9 Axes>"
      ]
     },
     "metadata": {
      "needs_background": "light"
     },
     "output_type": "display_data"
    }
   ],
   "source": [
    "census.hist(figsize=(10,10))\n",
    "plt.show()"
   ]
  },
  {
   "cell_type": "code",
   "execution_count": 128,
   "metadata": {},
   "outputs": [],
   "source": [
    "# as there are many object dtype columns ,therefore converting them into usefull data on working on models\n",
    "#label encoding and finding dummies for the categorical data "
   ]
  },
  {
   "cell_type": "code",
   "execution_count": 129,
   "metadata": {},
   "outputs": [],
   "source": [
    "census['sex']=le.fit_transform(census['sex'])"
   ]
  },
  {
   "cell_type": "code",
   "execution_count": 130,
   "metadata": {},
   "outputs": [],
   "source": [
    "census['race']=le.fit_transform(census['race'])"
   ]
  },
  {
   "cell_type": "code",
   "execution_count": 131,
   "metadata": {},
   "outputs": [],
   "source": [
    "census_data=pd.get_dummies(census)"
   ]
  },
  {
   "cell_type": "code",
   "execution_count": 132,
   "metadata": {},
   "outputs": [
    {
     "data": {
      "text/html": [
       "<div>\n",
       "<style scoped>\n",
       "    .dataframe tbody tr th:only-of-type {\n",
       "        vertical-align: middle;\n",
       "    }\n",
       "\n",
       "    .dataframe tbody tr th {\n",
       "        vertical-align: top;\n",
       "    }\n",
       "\n",
       "    .dataframe thead th {\n",
       "        text-align: right;\n",
       "    }\n",
       "</style>\n",
       "<table border=\"1\" class=\"dataframe\">\n",
       "  <thead>\n",
       "    <tr style=\"text-align: right;\">\n",
       "      <th></th>\n",
       "      <th>age</th>\n",
       "      <th>fnlwgt</th>\n",
       "      <th>education-num</th>\n",
       "      <th>race</th>\n",
       "      <th>sex</th>\n",
       "      <th>capital-gain</th>\n",
       "      <th>capital-loss</th>\n",
       "      <th>hours-per-week</th>\n",
       "      <th>income</th>\n",
       "      <th>workclass_ ?</th>\n",
       "      <th>...</th>\n",
       "      <th>nativa-country_ Portugal</th>\n",
       "      <th>nativa-country_ Puerto-Rico</th>\n",
       "      <th>nativa-country_ Scotland</th>\n",
       "      <th>nativa-country_ South</th>\n",
       "      <th>nativa-country_ Taiwan</th>\n",
       "      <th>nativa-country_ Thailand</th>\n",
       "      <th>nativa-country_ Trinadad&amp;Tobago</th>\n",
       "      <th>nativa-country_ United-States</th>\n",
       "      <th>nativa-country_ Vietnam</th>\n",
       "      <th>nativa-country_ Yugoslavia</th>\n",
       "    </tr>\n",
       "  </thead>\n",
       "  <tbody>\n",
       "    <tr>\n",
       "      <td>0</td>\n",
       "      <td>39</td>\n",
       "      <td>11.258253</td>\n",
       "      <td>13</td>\n",
       "      <td>4</td>\n",
       "      <td>1</td>\n",
       "      <td>7.684784</td>\n",
       "      <td>0.0</td>\n",
       "      <td>40</td>\n",
       "      <td>0</td>\n",
       "      <td>0</td>\n",
       "      <td>...</td>\n",
       "      <td>0</td>\n",
       "      <td>0</td>\n",
       "      <td>0</td>\n",
       "      <td>0</td>\n",
       "      <td>0</td>\n",
       "      <td>0</td>\n",
       "      <td>0</td>\n",
       "      <td>1</td>\n",
       "      <td>0</td>\n",
       "      <td>0</td>\n",
       "    </tr>\n",
       "    <tr>\n",
       "      <td>1</td>\n",
       "      <td>50</td>\n",
       "      <td>11.330348</td>\n",
       "      <td>13</td>\n",
       "      <td>4</td>\n",
       "      <td>1</td>\n",
       "      <td>0.000000</td>\n",
       "      <td>0.0</td>\n",
       "      <td>13</td>\n",
       "      <td>0</td>\n",
       "      <td>0</td>\n",
       "      <td>...</td>\n",
       "      <td>0</td>\n",
       "      <td>0</td>\n",
       "      <td>0</td>\n",
       "      <td>0</td>\n",
       "      <td>0</td>\n",
       "      <td>0</td>\n",
       "      <td>0</td>\n",
       "      <td>1</td>\n",
       "      <td>0</td>\n",
       "      <td>0</td>\n",
       "    </tr>\n",
       "    <tr>\n",
       "      <td>2</td>\n",
       "      <td>38</td>\n",
       "      <td>12.281398</td>\n",
       "      <td>9</td>\n",
       "      <td>4</td>\n",
       "      <td>1</td>\n",
       "      <td>0.000000</td>\n",
       "      <td>0.0</td>\n",
       "      <td>40</td>\n",
       "      <td>0</td>\n",
       "      <td>0</td>\n",
       "      <td>...</td>\n",
       "      <td>0</td>\n",
       "      <td>0</td>\n",
       "      <td>0</td>\n",
       "      <td>0</td>\n",
       "      <td>0</td>\n",
       "      <td>0</td>\n",
       "      <td>0</td>\n",
       "      <td>1</td>\n",
       "      <td>0</td>\n",
       "      <td>0</td>\n",
       "    </tr>\n",
       "    <tr>\n",
       "      <td>3</td>\n",
       "      <td>53</td>\n",
       "      <td>12.366157</td>\n",
       "      <td>7</td>\n",
       "      <td>2</td>\n",
       "      <td>1</td>\n",
       "      <td>0.000000</td>\n",
       "      <td>0.0</td>\n",
       "      <td>40</td>\n",
       "      <td>0</td>\n",
       "      <td>0</td>\n",
       "      <td>...</td>\n",
       "      <td>0</td>\n",
       "      <td>0</td>\n",
       "      <td>0</td>\n",
       "      <td>0</td>\n",
       "      <td>0</td>\n",
       "      <td>0</td>\n",
       "      <td>0</td>\n",
       "      <td>1</td>\n",
       "      <td>0</td>\n",
       "      <td>0</td>\n",
       "    </tr>\n",
       "    <tr>\n",
       "      <td>4</td>\n",
       "      <td>28</td>\n",
       "      <td>12.732013</td>\n",
       "      <td>13</td>\n",
       "      <td>2</td>\n",
       "      <td>0</td>\n",
       "      <td>0.000000</td>\n",
       "      <td>0.0</td>\n",
       "      <td>40</td>\n",
       "      <td>0</td>\n",
       "      <td>0</td>\n",
       "      <td>...</td>\n",
       "      <td>0</td>\n",
       "      <td>0</td>\n",
       "      <td>0</td>\n",
       "      <td>0</td>\n",
       "      <td>0</td>\n",
       "      <td>0</td>\n",
       "      <td>0</td>\n",
       "      <td>0</td>\n",
       "      <td>0</td>\n",
       "      <td>0</td>\n",
       "    </tr>\n",
       "  </tbody>\n",
       "</table>\n",
       "<p>5 rows × 104 columns</p>\n",
       "</div>"
      ],
      "text/plain": [
       "   age     fnlwgt  education-num  race  sex  capital-gain  capital-loss  \\\n",
       "0   39  11.258253             13     4    1      7.684784           0.0   \n",
       "1   50  11.330348             13     4    1      0.000000           0.0   \n",
       "2   38  12.281398              9     4    1      0.000000           0.0   \n",
       "3   53  12.366157              7     2    1      0.000000           0.0   \n",
       "4   28  12.732013             13     2    0      0.000000           0.0   \n",
       "\n",
       "   hours-per-week  income  workclass_ ?  ...  nativa-country_ Portugal  \\\n",
       "0              40       0             0  ...                         0   \n",
       "1              13       0             0  ...                         0   \n",
       "2              40       0             0  ...                         0   \n",
       "3              40       0             0  ...                         0   \n",
       "4              40       0             0  ...                         0   \n",
       "\n",
       "   nativa-country_ Puerto-Rico  nativa-country_ Scotland  \\\n",
       "0                            0                         0   \n",
       "1                            0                         0   \n",
       "2                            0                         0   \n",
       "3                            0                         0   \n",
       "4                            0                         0   \n",
       "\n",
       "   nativa-country_ South  nativa-country_ Taiwan  nativa-country_ Thailand  \\\n",
       "0                      0                       0                         0   \n",
       "1                      0                       0                         0   \n",
       "2                      0                       0                         0   \n",
       "3                      0                       0                         0   \n",
       "4                      0                       0                         0   \n",
       "\n",
       "   nativa-country_ Trinadad&Tobago  nativa-country_ United-States  \\\n",
       "0                                0                              1   \n",
       "1                                0                              1   \n",
       "2                                0                              1   \n",
       "3                                0                              1   \n",
       "4                                0                              0   \n",
       "\n",
       "   nativa-country_ Vietnam  nativa-country_ Yugoslavia  \n",
       "0                        0                           0  \n",
       "1                        0                           0  \n",
       "2                        0                           0  \n",
       "3                        0                           0  \n",
       "4                        0                           0  \n",
       "\n",
       "[5 rows x 104 columns]"
      ]
     },
     "execution_count": 132,
     "metadata": {},
     "output_type": "execute_result"
    }
   ],
   "source": [
    "census_data.head()"
   ]
  },
  {
   "cell_type": "code",
   "execution_count": 133,
   "metadata": {},
   "outputs": [],
   "source": [
    "# REMOVING OUTLIERS FROM THE DATA SET :=USING Z SCORE\n",
    "\n",
    "from scipy.stats import zscore\n",
    "z=np.abs(zscore(census_data))\n"
   ]
  },
  {
   "cell_type": "code",
   "execution_count": 134,
   "metadata": {},
   "outputs": [
    {
     "data": {
      "text/plain": [
       "array([[0.03067056, 1.15029782, 1.13473876, ..., 0.34095391, 0.04540836,\n",
       "        0.02217266],\n",
       "       [0.83710898, 1.03599295, 1.13473876, ..., 0.34095391, 0.04540836,\n",
       "        0.02217266],\n",
       "       [0.04264203, 0.47186728, 0.42005962, ..., 0.34095391, 0.04540836,\n",
       "        0.02217266],\n",
       "       ...,\n",
       "       [1.42360965, 0.08359845, 0.42005962, ..., 0.34095391, 0.04540836,\n",
       "        0.02217266],\n",
       "       [1.21564337, 0.36421698, 0.42005962, ..., 0.34095391, 0.04540836,\n",
       "        0.02217266],\n",
       "       [0.98373415, 0.93017493, 0.42005962, ..., 0.34095391, 0.04540836,\n",
       "        0.02217266]])"
      ]
     },
     "execution_count": 134,
     "metadata": {},
     "output_type": "execute_result"
    }
   ],
   "source": [
    "z"
   ]
  },
  {
   "cell_type": "code",
   "execution_count": 135,
   "metadata": {},
   "outputs": [
    {
     "data": {
      "text/html": [
       "<div>\n",
       "<style scoped>\n",
       "    .dataframe tbody tr th:only-of-type {\n",
       "        vertical-align: middle;\n",
       "    }\n",
       "\n",
       "    .dataframe tbody tr th {\n",
       "        vertical-align: top;\n",
       "    }\n",
       "\n",
       "    .dataframe thead th {\n",
       "        text-align: right;\n",
       "    }\n",
       "</style>\n",
       "<table border=\"1\" class=\"dataframe\">\n",
       "  <thead>\n",
       "    <tr style=\"text-align: right;\">\n",
       "      <th></th>\n",
       "      <th>age</th>\n",
       "      <th>fnlwgt</th>\n",
       "      <th>education-num</th>\n",
       "      <th>race</th>\n",
       "      <th>sex</th>\n",
       "      <th>capital-gain</th>\n",
       "      <th>capital-loss</th>\n",
       "      <th>hours-per-week</th>\n",
       "      <th>income</th>\n",
       "      <th>workclass_ ?</th>\n",
       "      <th>...</th>\n",
       "      <th>nativa-country_ Portugal</th>\n",
       "      <th>nativa-country_ Puerto-Rico</th>\n",
       "      <th>nativa-country_ Scotland</th>\n",
       "      <th>nativa-country_ South</th>\n",
       "      <th>nativa-country_ Taiwan</th>\n",
       "      <th>nativa-country_ Thailand</th>\n",
       "      <th>nativa-country_ Trinadad&amp;Tobago</th>\n",
       "      <th>nativa-country_ United-States</th>\n",
       "      <th>nativa-country_ Vietnam</th>\n",
       "      <th>nativa-country_ Yugoslavia</th>\n",
       "    </tr>\n",
       "  </thead>\n",
       "  <tbody>\n",
       "    <tr>\n",
       "      <td>12</td>\n",
       "      <td>23</td>\n",
       "      <td>11.714012</td>\n",
       "      <td>13</td>\n",
       "      <td>4</td>\n",
       "      <td>0</td>\n",
       "      <td>0.0</td>\n",
       "      <td>0.0</td>\n",
       "      <td>30</td>\n",
       "      <td>0</td>\n",
       "      <td>0</td>\n",
       "      <td>...</td>\n",
       "      <td>0</td>\n",
       "      <td>0</td>\n",
       "      <td>0</td>\n",
       "      <td>0</td>\n",
       "      <td>0</td>\n",
       "      <td>0</td>\n",
       "      <td>0</td>\n",
       "      <td>1</td>\n",
       "      <td>0</td>\n",
       "      <td>0</td>\n",
       "    </tr>\n",
       "    <tr>\n",
       "      <td>26</td>\n",
       "      <td>19</td>\n",
       "      <td>12.033474</td>\n",
       "      <td>9</td>\n",
       "      <td>4</td>\n",
       "      <td>1</td>\n",
       "      <td>0.0</td>\n",
       "      <td>0.0</td>\n",
       "      <td>40</td>\n",
       "      <td>0</td>\n",
       "      <td>0</td>\n",
       "      <td>...</td>\n",
       "      <td>0</td>\n",
       "      <td>0</td>\n",
       "      <td>0</td>\n",
       "      <td>0</td>\n",
       "      <td>0</td>\n",
       "      <td>0</td>\n",
       "      <td>0</td>\n",
       "      <td>1</td>\n",
       "      <td>0</td>\n",
       "      <td>0</td>\n",
       "    </tr>\n",
       "    <tr>\n",
       "      <td>29</td>\n",
       "      <td>49</td>\n",
       "      <td>12.172345</td>\n",
       "      <td>9</td>\n",
       "      <td>4</td>\n",
       "      <td>1</td>\n",
       "      <td>0.0</td>\n",
       "      <td>0.0</td>\n",
       "      <td>40</td>\n",
       "      <td>0</td>\n",
       "      <td>0</td>\n",
       "      <td>...</td>\n",
       "      <td>0</td>\n",
       "      <td>0</td>\n",
       "      <td>0</td>\n",
       "      <td>0</td>\n",
       "      <td>0</td>\n",
       "      <td>0</td>\n",
       "      <td>0</td>\n",
       "      <td>1</td>\n",
       "      <td>0</td>\n",
       "      <td>0</td>\n",
       "    </tr>\n",
       "    <tr>\n",
       "      <td>31</td>\n",
       "      <td>20</td>\n",
       "      <td>12.491312</td>\n",
       "      <td>10</td>\n",
       "      <td>2</td>\n",
       "      <td>1</td>\n",
       "      <td>0.0</td>\n",
       "      <td>0.0</td>\n",
       "      <td>44</td>\n",
       "      <td>0</td>\n",
       "      <td>0</td>\n",
       "      <td>...</td>\n",
       "      <td>0</td>\n",
       "      <td>0</td>\n",
       "      <td>0</td>\n",
       "      <td>0</td>\n",
       "      <td>0</td>\n",
       "      <td>0</td>\n",
       "      <td>0</td>\n",
       "      <td>1</td>\n",
       "      <td>0</td>\n",
       "      <td>0</td>\n",
       "    </tr>\n",
       "    <tr>\n",
       "      <td>58</td>\n",
       "      <td>41</td>\n",
       "      <td>11.900722</td>\n",
       "      <td>9</td>\n",
       "      <td>4</td>\n",
       "      <td>1</td>\n",
       "      <td>0.0</td>\n",
       "      <td>0.0</td>\n",
       "      <td>48</td>\n",
       "      <td>0</td>\n",
       "      <td>0</td>\n",
       "      <td>...</td>\n",
       "      <td>0</td>\n",
       "      <td>0</td>\n",
       "      <td>0</td>\n",
       "      <td>0</td>\n",
       "      <td>0</td>\n",
       "      <td>0</td>\n",
       "      <td>0</td>\n",
       "      <td>1</td>\n",
       "      <td>0</td>\n",
       "      <td>0</td>\n",
       "    </tr>\n",
       "    <tr>\n",
       "      <td>...</td>\n",
       "      <td>...</td>\n",
       "      <td>...</td>\n",
       "      <td>...</td>\n",
       "      <td>...</td>\n",
       "      <td>...</td>\n",
       "      <td>...</td>\n",
       "      <td>...</td>\n",
       "      <td>...</td>\n",
       "      <td>...</td>\n",
       "      <td>...</td>\n",
       "      <td>...</td>\n",
       "      <td>...</td>\n",
       "      <td>...</td>\n",
       "      <td>...</td>\n",
       "      <td>...</td>\n",
       "      <td>...</td>\n",
       "      <td>...</td>\n",
       "      <td>...</td>\n",
       "      <td>...</td>\n",
       "      <td>...</td>\n",
       "      <td>...</td>\n",
       "    </tr>\n",
       "    <tr>\n",
       "      <td>32527</td>\n",
       "      <td>22</td>\n",
       "      <td>12.224482</td>\n",
       "      <td>10</td>\n",
       "      <td>4</td>\n",
       "      <td>1</td>\n",
       "      <td>0.0</td>\n",
       "      <td>0.0</td>\n",
       "      <td>40</td>\n",
       "      <td>0</td>\n",
       "      <td>0</td>\n",
       "      <td>...</td>\n",
       "      <td>0</td>\n",
       "      <td>0</td>\n",
       "      <td>0</td>\n",
       "      <td>0</td>\n",
       "      <td>0</td>\n",
       "      <td>0</td>\n",
       "      <td>0</td>\n",
       "      <td>1</td>\n",
       "      <td>0</td>\n",
       "      <td>0</td>\n",
       "    </tr>\n",
       "    <tr>\n",
       "      <td>32534</td>\n",
       "      <td>37</td>\n",
       "      <td>12.095912</td>\n",
       "      <td>10</td>\n",
       "      <td>4</td>\n",
       "      <td>0</td>\n",
       "      <td>0.0</td>\n",
       "      <td>0.0</td>\n",
       "      <td>39</td>\n",
       "      <td>0</td>\n",
       "      <td>0</td>\n",
       "      <td>...</td>\n",
       "      <td>0</td>\n",
       "      <td>0</td>\n",
       "      <td>0</td>\n",
       "      <td>0</td>\n",
       "      <td>0</td>\n",
       "      <td>0</td>\n",
       "      <td>0</td>\n",
       "      <td>1</td>\n",
       "      <td>0</td>\n",
       "      <td>0</td>\n",
       "    </tr>\n",
       "    <tr>\n",
       "      <td>32536</td>\n",
       "      <td>34</td>\n",
       "      <td>11.984284</td>\n",
       "      <td>13</td>\n",
       "      <td>4</td>\n",
       "      <td>0</td>\n",
       "      <td>0.0</td>\n",
       "      <td>0.0</td>\n",
       "      <td>55</td>\n",
       "      <td>1</td>\n",
       "      <td>0</td>\n",
       "      <td>...</td>\n",
       "      <td>0</td>\n",
       "      <td>0</td>\n",
       "      <td>0</td>\n",
       "      <td>0</td>\n",
       "      <td>0</td>\n",
       "      <td>0</td>\n",
       "      <td>0</td>\n",
       "      <td>1</td>\n",
       "      <td>0</td>\n",
       "      <td>0</td>\n",
       "    </tr>\n",
       "    <tr>\n",
       "      <td>32537</td>\n",
       "      <td>30</td>\n",
       "      <td>12.753902</td>\n",
       "      <td>9</td>\n",
       "      <td>2</td>\n",
       "      <td>1</td>\n",
       "      <td>0.0</td>\n",
       "      <td>0.0</td>\n",
       "      <td>46</td>\n",
       "      <td>0</td>\n",
       "      <td>0</td>\n",
       "      <td>...</td>\n",
       "      <td>0</td>\n",
       "      <td>0</td>\n",
       "      <td>0</td>\n",
       "      <td>0</td>\n",
       "      <td>0</td>\n",
       "      <td>0</td>\n",
       "      <td>0</td>\n",
       "      <td>1</td>\n",
       "      <td>0</td>\n",
       "      <td>0</td>\n",
       "    </tr>\n",
       "    <tr>\n",
       "      <td>32559</td>\n",
       "      <td>22</td>\n",
       "      <td>12.213500</td>\n",
       "      <td>9</td>\n",
       "      <td>4</td>\n",
       "      <td>1</td>\n",
       "      <td>0.0</td>\n",
       "      <td>0.0</td>\n",
       "      <td>20</td>\n",
       "      <td>0</td>\n",
       "      <td>0</td>\n",
       "      <td>...</td>\n",
       "      <td>0</td>\n",
       "      <td>0</td>\n",
       "      <td>0</td>\n",
       "      <td>0</td>\n",
       "      <td>0</td>\n",
       "      <td>0</td>\n",
       "      <td>0</td>\n",
       "      <td>1</td>\n",
       "      <td>0</td>\n",
       "      <td>0</td>\n",
       "    </tr>\n",
       "  </tbody>\n",
       "</table>\n",
       "<p>8312 rows × 104 columns</p>\n",
       "</div>"
      ],
      "text/plain": [
       "       age     fnlwgt  education-num  race  sex  capital-gain  capital-loss  \\\n",
       "12      23  11.714012             13     4    0           0.0           0.0   \n",
       "26      19  12.033474              9     4    1           0.0           0.0   \n",
       "29      49  12.172345              9     4    1           0.0           0.0   \n",
       "31      20  12.491312             10     2    1           0.0           0.0   \n",
       "58      41  11.900722              9     4    1           0.0           0.0   \n",
       "...    ...        ...            ...   ...  ...           ...           ...   \n",
       "32527   22  12.224482             10     4    1           0.0           0.0   \n",
       "32534   37  12.095912             10     4    0           0.0           0.0   \n",
       "32536   34  11.984284             13     4    0           0.0           0.0   \n",
       "32537   30  12.753902              9     2    1           0.0           0.0   \n",
       "32559   22  12.213500              9     4    1           0.0           0.0   \n",
       "\n",
       "       hours-per-week  income  workclass_ ?  ...  nativa-country_ Portugal  \\\n",
       "12                 30       0             0  ...                         0   \n",
       "26                 40       0             0  ...                         0   \n",
       "29                 40       0             0  ...                         0   \n",
       "31                 44       0             0  ...                         0   \n",
       "58                 48       0             0  ...                         0   \n",
       "...               ...     ...           ...  ...                       ...   \n",
       "32527              40       0             0  ...                         0   \n",
       "32534              39       0             0  ...                         0   \n",
       "32536              55       1             0  ...                         0   \n",
       "32537              46       0             0  ...                         0   \n",
       "32559              20       0             0  ...                         0   \n",
       "\n",
       "       nativa-country_ Puerto-Rico  nativa-country_ Scotland  \\\n",
       "12                               0                         0   \n",
       "26                               0                         0   \n",
       "29                               0                         0   \n",
       "31                               0                         0   \n",
       "58                               0                         0   \n",
       "...                            ...                       ...   \n",
       "32527                            0                         0   \n",
       "32534                            0                         0   \n",
       "32536                            0                         0   \n",
       "32537                            0                         0   \n",
       "32559                            0                         0   \n",
       "\n",
       "       nativa-country_ South  nativa-country_ Taiwan  \\\n",
       "12                         0                       0   \n",
       "26                         0                       0   \n",
       "29                         0                       0   \n",
       "31                         0                       0   \n",
       "58                         0                       0   \n",
       "...                      ...                     ...   \n",
       "32527                      0                       0   \n",
       "32534                      0                       0   \n",
       "32536                      0                       0   \n",
       "32537                      0                       0   \n",
       "32559                      0                       0   \n",
       "\n",
       "       nativa-country_ Thailand  nativa-country_ Trinadad&Tobago  \\\n",
       "12                            0                                0   \n",
       "26                            0                                0   \n",
       "29                            0                                0   \n",
       "31                            0                                0   \n",
       "58                            0                                0   \n",
       "...                         ...                              ...   \n",
       "32527                         0                                0   \n",
       "32534                         0                                0   \n",
       "32536                         0                                0   \n",
       "32537                         0                                0   \n",
       "32559                         0                                0   \n",
       "\n",
       "       nativa-country_ United-States  nativa-country_ Vietnam  \\\n",
       "12                                 1                        0   \n",
       "26                                 1                        0   \n",
       "29                                 1                        0   \n",
       "31                                 1                        0   \n",
       "58                                 1                        0   \n",
       "...                              ...                      ...   \n",
       "32527                              1                        0   \n",
       "32534                              1                        0   \n",
       "32536                              1                        0   \n",
       "32537                              1                        0   \n",
       "32559                              1                        0   \n",
       "\n",
       "       nativa-country_ Yugoslavia  \n",
       "12                              0  \n",
       "26                              0  \n",
       "29                              0  \n",
       "31                              0  \n",
       "58                              0  \n",
       "...                           ...  \n",
       "32527                           0  \n",
       "32534                           0  \n",
       "32536                           0  \n",
       "32537                           0  \n",
       "32559                           0  \n",
       "\n",
       "[8312 rows x 104 columns]"
      ]
     },
     "execution_count": 135,
     "metadata": {},
     "output_type": "execute_result"
    }
   ],
   "source": [
    "data=census_data[(z<3).all(axis=1)]\n",
    "data"
   ]
  },
  {
   "cell_type": "code",
   "execution_count": 136,
   "metadata": {},
   "outputs": [],
   "source": [
    "x=data.drop('income',axis=1) # FEATURES ONLY , TARGET VARIABLE REMOVED"
   ]
  },
  {
   "cell_type": "code",
   "execution_count": 137,
   "metadata": {},
   "outputs": [
    {
     "data": {
      "text/plain": [
       "(8312, 103)"
      ]
     },
     "execution_count": 137,
     "metadata": {},
     "output_type": "execute_result"
    }
   ],
   "source": [
    "x.shape"
   ]
  },
  {
   "cell_type": "code",
   "execution_count": 138,
   "metadata": {},
   "outputs": [],
   "source": [
    "# IMPORTING PCA - FOR FINDING THE BEST CORR COLUMNS AMONGST ALL\n",
    "from sklearn.decomposition import PCA\n",
    "pca=PCA(n_components=60)\n",
    "x_p=pca.fit_transform(x)"
   ]
  },
  {
   "cell_type": "code",
   "execution_count": 139,
   "metadata": {},
   "outputs": [],
   "source": [
    "y=data['income']   # TARGET VARIABLE "
   ]
  },
  {
   "cell_type": "code",
   "execution_count": 140,
   "metadata": {},
   "outputs": [],
   "source": [
    "# SCALING DOWN THE FEATURES [0,1]\n",
    "from sklearn.preprocessing import StandardScaler\n",
    "ss=StandardScaler() "
   ]
  },
  {
   "cell_type": "code",
   "execution_count": 141,
   "metadata": {},
   "outputs": [],
   "source": [
    "x=ss.fit_transform(x)"
   ]
  },
  {
   "cell_type": "code",
   "execution_count": 142,
   "metadata": {},
   "outputs": [],
   "source": [
    "from sklearn.model_selection import train_test_split\n",
    "x_train,x_test,y_train,y_test=train_test_split(x,y,random_state=96,test_size=.22)"
   ]
  },
  {
   "cell_type": "code",
   "execution_count": 143,
   "metadata": {},
   "outputs": [],
   "source": [
    "# IMPORTING METRICS,MODELS,ENSEMBLE,BOOSTING METHODS ,AND VARIOUS MODELS TO CHECK THE MODEL PERFORMANCE :-\n",
    "from sklearn.metrics import accuracy_score,classification_report,confusion_matrix,r2_score\n",
    "from sklearn.model_selection import train_test_split\n",
    "from sklearn.metrics import accuracy_score,classification_report,confusion_matrix\n",
    "from sklearn.linear_model import LogisticRegression\n",
    "from sklearn.model_selection import cross_val_score,GridSearchCV #(FOR PARAMETERS TUNING , MODEL ENHANCING AND VALIDATION)\n",
    "from sklearn.naive_bayes import MultinomialNB\n",
    "from sklearn.tree import DecisionTreeClassifier\n",
    "from sklearn.neighbors import KNeighborsClassifier\n",
    "from sklearn.ensemble import RandomForestClassifier,AdaBoostClassifier,GradientBoostingClassifier\n",
    "from sklearn.naive_bayes import GaussianNB\n",
    "from sklearn.svm import SVC"
   ]
  },
  {
   "cell_type": "code",
   "execution_count": 144,
   "metadata": {},
   "outputs": [
    {
     "data": {
      "text/plain": [
       "{'criterion': 'entropy'}"
      ]
     },
     "execution_count": 144,
     "metadata": {},
     "output_type": "execute_result"
    }
   ],
   "source": [
    "## decision tree classifier\n",
    "## USING GRID SEARCH CV FOR FINDING THE BEST PARAMETERS FOR THE MODEL AND TUNE THE PARAMETERS\n",
    "\n",
    "dtc=DecisionTreeClassifier()\n",
    "param={'criterion':['gini','entropy']}\n",
    "clf=GridSearchCV(dtc,param)\n",
    "clf.fit(x,y)\n",
    "clf.best_params_"
   ]
  },
  {
   "cell_type": "code",
   "execution_count": 145,
   "metadata": {},
   "outputs": [
    {
     "data": {
      "text/plain": [
       "{'n_neighbors': 10}"
      ]
     },
     "execution_count": 145,
     "metadata": {},
     "output_type": "execute_result"
    }
   ],
   "source": [
    "## KNEIGHBOURS CALSSIFIER ()\n",
    "knn=KNeighborsClassifier()\n",
    "parameters={'n_neighbors':[i+1 for i in range(10)]}\n",
    "clf=GridSearchCV(knn,parameters)\n",
    "clf.fit(x,y)\n",
    "clf.best_params_"
   ]
  },
  {
   "cell_type": "code",
   "execution_count": 146,
   "metadata": {},
   "outputs": [
    {
     "data": {
      "text/plain": [
       "{'n_estimators': 200}"
      ]
     },
     "execution_count": 146,
     "metadata": {},
     "output_type": "execute_result"
    }
   ],
   "source": [
    "# random forest calssifier\n",
    "rfr=RandomForestClassifier()\n",
    "parameters={'n_estimators':[1,10,50,100,200,300,400,500,1000]}\n",
    "clfr=GridSearchCV(rfr,parameters)\n",
    "clfr.fit(x,y)\n",
    "clfr.best_params_"
   ]
  },
  {
   "cell_type": "code",
   "execution_count": 147,
   "metadata": {},
   "outputs": [
    {
     "data": {
      "text/plain": [
       "{'kernel': 'linear'}"
      ]
     },
     "execution_count": 147,
     "metadata": {},
     "output_type": "execute_result"
    }
   ],
   "source": [
    "#svc \n",
    "svc=SVC()\n",
    "parameters={'kernel':['rbf','poly','linear']}\n",
    "clfs=GridSearchCV(svc,parameters)\n",
    "clfs.fit(x,y)\n",
    "clfs.best_params_"
   ]
  },
  {
   "cell_type": "code",
   "execution_count": 148,
   "metadata": {},
   "outputs": [
    {
     "data": {
      "text/plain": [
       "{'learning_rate': 1, 'n_estimators': 50}"
      ]
     },
     "execution_count": 148,
     "metadata": {},
     "output_type": "execute_result"
    }
   ],
   "source": [
    "ada=AdaBoostClassifier()\n",
    "para={'n_estimators':[1,10,50,100,200,300,400,500,1000],'learning_rate':[0.001,0.01,0.1,1,0.0001]}\n",
    "clfa=GridSearchCV(ada,para)\n",
    "clfa.fit(x,y)\n",
    "clfa.best_params_"
   ]
  },
  {
   "cell_type": "code",
   "execution_count": 149,
   "metadata": {},
   "outputs": [],
   "source": [
    "## creating a function for finding out the  best random state having the  best acc score for the model\n",
    "def maxacc_Score(regr,x,y):\n",
    "    max_acc_score=0\n",
    "    for r_state in range(42,101):\n",
    "        x_train, x_test, y_train, y_test=train_test_split(x,y,random_state=r_state,test_size=0.25)\n",
    "        regr.fit(x_train,y_train)\n",
    "        y_pred=regr.predict(x_test)\n",
    "        acc_scr=accuracy_score(y_test,y_pred)\n",
    "        print('acc_score corr to random state',r_state,'is:',acc_scr)\n",
    "        if acc_scr>max_acc_score:\n",
    "            max_acc_score=acc_scr\n",
    "            final_r_state=r_state\n",
    "    print()\n",
    "    print()\n",
    "    print(\"max accuracy score corr to \",final_r_state,'is',max_acc_score)       \n",
    "    return final_r_state "
   ]
  },
  {
   "cell_type": "code",
   "execution_count": 150,
   "metadata": {
    "scrolled": true
   },
   "outputs": [
    {
     "name": "stdout",
     "output_type": "stream",
     "text": [
      "acc_score corr to random state 42 is: 0.8330125120307988\n",
      "acc_score corr to random state 43 is: 0.8460057747834456\n",
      "acc_score corr to random state 44 is: 0.856111645813282\n",
      "acc_score corr to random state 45 is: 0.8585178055822906\n",
      "acc_score corr to random state 46 is: 0.8710298363811357\n",
      "acc_score corr to random state 47 is: 0.8445620789220404\n",
      "acc_score corr to random state 48 is: 0.8585178055822906\n",
      "acc_score corr to random state 49 is: 0.8570741097208855\n",
      "acc_score corr to random state 50 is: 0.8618864292589028\n",
      "acc_score corr to random state 51 is: 0.8527430221366699\n",
      "acc_score corr to random state 52 is: 0.8455245428296438\n",
      "acc_score corr to random state 53 is: 0.8508180943214629\n",
      "acc_score corr to random state 54 is: 0.8556304138594802\n",
      "acc_score corr to random state 55 is: 0.8575553416746872\n",
      "acc_score corr to random state 56 is: 0.8464870067372473\n",
      "acc_score corr to random state 57 is: 0.8450433108758422\n",
      "acc_score corr to random state 58 is: 0.8512993262752647\n",
      "acc_score corr to random state 59 is: 0.8498556304138595\n",
      "acc_score corr to random state 60 is: 0.8537054860442733\n",
      "acc_score corr to random state 61 is: 0.8421559191530318\n",
      "acc_score corr to random state 62 is: 0.8546679499518768\n",
      "acc_score corr to random state 63 is: 0.8570741097208855\n",
      "acc_score corr to random state 64 is: 0.8599615014436959\n",
      "acc_score corr to random state 65 is: 0.8541867179980751\n",
      "acc_score corr to random state 66 is: 0.8527430221366699\n",
      "acc_score corr to random state 67 is: 0.8498556304138595\n",
      "acc_score corr to random state 68 is: 0.8623676612127045\n",
      "acc_score corr to random state 69 is: 0.8527430221366699\n",
      "acc_score corr to random state 70 is: 0.8527430221366699\n",
      "acc_score corr to random state 71 is: 0.8541867179980751\n",
      "acc_score corr to random state 72 is: 0.8537054860442733\n",
      "acc_score corr to random state 73 is: 0.8618864292589028\n",
      "acc_score corr to random state 74 is: 0.8565928777670837\n",
      "acc_score corr to random state 75 is: 0.856111645813282\n",
      "acc_score corr to random state 76 is: 0.8618864292589028\n",
      "acc_score corr to random state 77 is: 0.8455245428296438\n",
      "acc_score corr to random state 78 is: 0.8527430221366699\n",
      "acc_score corr to random state 79 is: 0.858036573628489\n",
      "acc_score corr to random state 80 is: 0.861405197305101\n",
      "acc_score corr to random state 81 is: 0.8537054860442733\n",
      "acc_score corr to random state 82 is: 0.8484119345524542\n",
      "acc_score corr to random state 83 is: 0.8440808469682387\n",
      "acc_score corr to random state 84 is: 0.8647738209817132\n",
      "acc_score corr to random state 85 is: 0.858036573628489\n",
      "acc_score corr to random state 86 is: 0.856111645813282\n",
      "acc_score corr to random state 87 is: 0.8387872954764196\n",
      "acc_score corr to random state 88 is: 0.8565928777670837\n",
      "acc_score corr to random state 89 is: 0.848893166506256\n",
      "acc_score corr to random state 90 is: 0.8585178055822906\n",
      "acc_score corr to random state 91 is: 0.8464870067372473\n",
      "acc_score corr to random state 92 is: 0.8628488931665063\n",
      "acc_score corr to random state 93 is: 0.8527430221366699\n",
      "acc_score corr to random state 94 is: 0.84167468719923\n",
      "acc_score corr to random state 95 is: 0.8455245428296438\n",
      "acc_score corr to random state 96 is: 0.8479307025986526\n",
      "acc_score corr to random state 97 is: 0.8469682386910491\n",
      "acc_score corr to random state 98 is: 0.8551491819056786\n",
      "acc_score corr to random state 99 is: 0.8537054860442733\n",
      "acc_score corr to random state 100 is: 0.848893166506256\n",
      "\n",
      "\n",
      "max accuracy score corr to  46 is 0.8710298363811357\n"
     ]
    }
   ],
   "source": [
    "# for logistic regression\n",
    "lr=LogisticRegression()\n",
    "r_state=maxacc_Score(lr,x,y)"
   ]
  },
  {
   "cell_type": "code",
   "execution_count": 151,
   "metadata": {
    "scrolled": true
   },
   "outputs": [
    {
     "name": "stdout",
     "output_type": "stream",
     "text": [
      "acc_score corr to random state 42 is: 0.8315688161693936\n",
      "acc_score corr to random state 43 is: 0.8460057747834456\n",
      "acc_score corr to random state 44 is: 0.8565928777670837\n",
      "acc_score corr to random state 45 is: 0.8585178055822906\n",
      "acc_score corr to random state 46 is: 0.8715110683349374\n",
      "acc_score corr to random state 47 is: 0.8440808469682387\n",
      "acc_score corr to random state 48 is: 0.8589990375360924\n",
      "acc_score corr to random state 49 is: 0.8575553416746872\n",
      "acc_score corr to random state 50 is: 0.8623676612127045\n",
      "acc_score corr to random state 51 is: 0.8532242540904716\n",
      "acc_score corr to random state 52 is: 0.8455245428296438\n",
      "acc_score corr to random state 53 is: 0.8508180943214629\n",
      "acc_score corr to random state 54 is: 0.8556304138594802\n",
      "acc_score corr to random state 55 is: 0.8575553416746872\n",
      "acc_score corr to random state 56 is: 0.8464870067372473\n",
      "acc_score corr to random state 57 is: 0.8450433108758422\n",
      "acc_score corr to random state 58 is: 0.8517805582290664\n",
      "acc_score corr to random state 59 is: 0.8503368623676613\n",
      "acc_score corr to random state 60 is: 0.8537054860442733\n",
      "acc_score corr to random state 61 is: 0.84167468719923\n",
      "acc_score corr to random state 62 is: 0.8546679499518768\n",
      "acc_score corr to random state 63 is: 0.8575553416746872\n",
      "acc_score corr to random state 64 is: 0.8589990375360924\n",
      "acc_score corr to random state 65 is: 0.8541867179980751\n",
      "acc_score corr to random state 66 is: 0.8517805582290664\n",
      "acc_score corr to random state 67 is: 0.8498556304138595\n",
      "acc_score corr to random state 68 is: 0.8623676612127045\n",
      "acc_score corr to random state 69 is: 0.8527430221366699\n",
      "acc_score corr to random state 70 is: 0.8532242540904716\n",
      "acc_score corr to random state 71 is: 0.8541867179980751\n",
      "acc_score corr to random state 72 is: 0.8532242540904716\n",
      "acc_score corr to random state 73 is: 0.8618864292589028\n",
      "acc_score corr to random state 74 is: 0.8565928777670837\n",
      "acc_score corr to random state 75 is: 0.8565928777670837\n",
      "acc_score corr to random state 76 is: 0.8618864292589028\n",
      "acc_score corr to random state 77 is: 0.8450433108758422\n",
      "acc_score corr to random state 78 is: 0.8527430221366699\n",
      "acc_score corr to random state 79 is: 0.8585178055822906\n",
      "acc_score corr to random state 80 is: 0.861405197305101\n",
      "acc_score corr to random state 81 is: 0.8541867179980751\n",
      "acc_score corr to random state 82 is: 0.8479307025986526\n",
      "acc_score corr to random state 83 is: 0.8450433108758422\n",
      "acc_score corr to random state 84 is: 0.8647738209817132\n",
      "acc_score corr to random state 85 is: 0.8575553416746872\n",
      "acc_score corr to random state 86 is: 0.8551491819056786\n",
      "acc_score corr to random state 87 is: 0.8387872954764196\n",
      "acc_score corr to random state 88 is: 0.8570741097208855\n",
      "acc_score corr to random state 89 is: 0.8493743984600578\n",
      "acc_score corr to random state 90 is: 0.8589990375360924\n",
      "acc_score corr to random state 91 is: 0.8469682386910491\n",
      "acc_score corr to random state 92 is: 0.8633301251203079\n",
      "acc_score corr to random state 93 is: 0.8527430221366699\n",
      "acc_score corr to random state 94 is: 0.8426371511068335\n",
      "acc_score corr to random state 95 is: 0.8455245428296438\n",
      "acc_score corr to random state 96 is: 0.848893166506256\n",
      "acc_score corr to random state 97 is: 0.8455245428296438\n",
      "acc_score corr to random state 98 is: 0.8556304138594802\n",
      "acc_score corr to random state 99 is: 0.8541867179980751\n",
      "acc_score corr to random state 100 is: 0.848893166506256\n",
      "\n",
      "\n",
      "max accuracy score corr to  46 is 0.8715110683349374\n"
     ]
    }
   ],
   "source": [
    "# for logistic regression with PCA\n",
    "lr=LogisticRegression()\n",
    "r_state=maxacc_Score(lr,x_p,y)"
   ]
  },
  {
   "cell_type": "code",
   "execution_count": 152,
   "metadata": {},
   "outputs": [],
   "source": [
    "## PCA DOES'T EFFECTING THE EFFICIENCY OF MODEL "
   ]
  },
  {
   "cell_type": "code",
   "execution_count": 153,
   "metadata": {
    "scrolled": true
   },
   "outputs": [
    {
     "name": "stdout",
     "output_type": "stream",
     "text": [
      "acc_score corr to random state 42 is: 0.8253128007699712\n",
      "acc_score corr to random state 43 is: 0.8460057747834456\n",
      "acc_score corr to random state 44 is: 0.8282001924927815\n",
      "acc_score corr to random state 45 is: 0.8349374398460058\n",
      "acc_score corr to random state 46 is: 0.8537054860442733\n",
      "acc_score corr to random state 47 is: 0.8267564966313763\n",
      "acc_score corr to random state 48 is: 0.8421559191530318\n",
      "acc_score corr to random state 49 is: 0.8455245428296438\n",
      "acc_score corr to random state 50 is: 0.8440808469682387\n",
      "acc_score corr to random state 51 is: 0.8402309913378249\n",
      "acc_score corr to random state 52 is: 0.8397497593840231\n",
      "acc_score corr to random state 53 is: 0.8354186717998076\n",
      "acc_score corr to random state 54 is: 0.8358999037536092\n",
      "acc_score corr to random state 55 is: 0.848893166506256\n",
      "acc_score corr to random state 56 is: 0.8310875842155919\n",
      "acc_score corr to random state 57 is: 0.8282001924927815\n",
      "acc_score corr to random state 58 is: 0.8334937439846006\n",
      "acc_score corr to random state 59 is: 0.8358999037536092\n",
      "acc_score corr to random state 60 is: 0.8378248315688162\n",
      "acc_score corr to random state 61 is: 0.8306063522617901\n",
      "acc_score corr to random state 62 is: 0.836381135707411\n",
      "acc_score corr to random state 63 is: 0.8498556304138595\n",
      "acc_score corr to random state 64 is: 0.8464870067372473\n",
      "acc_score corr to random state 65 is: 0.8354186717998076\n",
      "acc_score corr to random state 66 is: 0.8277189605389798\n",
      "acc_score corr to random state 67 is: 0.8306063522617901\n",
      "acc_score corr to random state 68 is: 0.8330125120307988\n",
      "acc_score corr to random state 69 is: 0.8330125120307988\n",
      "acc_score corr to random state 70 is: 0.8272377285851781\n",
      "acc_score corr to random state 71 is: 0.8407122232916265\n",
      "acc_score corr to random state 72 is: 0.8431183830606352\n",
      "acc_score corr to random state 73 is: 0.8537054860442733\n",
      "acc_score corr to random state 74 is: 0.8339749759384023\n",
      "acc_score corr to random state 75 is: 0.8421559191530318\n",
      "acc_score corr to random state 76 is: 0.8469682386910491\n",
      "acc_score corr to random state 77 is: 0.8325312800769971\n",
      "acc_score corr to random state 78 is: 0.8411934552454283\n",
      "acc_score corr to random state 79 is: 0.8435996150144369\n",
      "acc_score corr to random state 80 is: 0.8532242540904716\n",
      "acc_score corr to random state 81 is: 0.836381135707411\n",
      "acc_score corr to random state 82 is: 0.8296438883541867\n",
      "acc_score corr to random state 83 is: 0.8392685274302214\n",
      "acc_score corr to random state 84 is: 0.856111645813282\n",
      "acc_score corr to random state 85 is: 0.8339749759384023\n",
      "acc_score corr to random state 86 is: 0.8392685274302214\n",
      "acc_score corr to random state 87 is: 0.821944177093359\n",
      "acc_score corr to random state 88 is: 0.8469682386910491\n",
      "acc_score corr to random state 89 is: 0.8407122232916265\n",
      "acc_score corr to random state 90 is: 0.8474494706448508\n",
      "acc_score corr to random state 91 is: 0.829162656400385\n",
      "acc_score corr to random state 92 is: 0.8585178055822906\n",
      "acc_score corr to random state 93 is: 0.8383060635226179\n",
      "acc_score corr to random state 94 is: 0.836381135707411\n",
      "acc_score corr to random state 95 is: 0.8368623676612127\n",
      "acc_score corr to random state 96 is: 0.8296438883541867\n",
      "acc_score corr to random state 97 is: 0.8315688161693936\n",
      "acc_score corr to random state 98 is: 0.8358999037536092\n",
      "acc_score corr to random state 99 is: 0.8407122232916265\n",
      "acc_score corr to random state 100 is: 0.8296438883541867\n",
      "\n",
      "\n",
      "max accuracy score corr to  92 is 0.8585178055822906\n"
     ]
    }
   ],
   "source": [
    "rfc=RandomForestClassifier(n_estimators=200)\n",
    "r_state=maxacc_Score(rfc,x,y)"
   ]
  },
  {
   "cell_type": "code",
   "execution_count": 154,
   "metadata": {
    "scrolled": true
   },
   "outputs": [
    {
     "name": "stdout",
     "output_type": "stream",
     "text": [
      "acc_score corr to random state 42 is: 0.8282001924927815\n",
      "acc_score corr to random state 43 is: 0.8392685274302214\n",
      "acc_score corr to random state 44 is: 0.8392685274302214\n",
      "acc_score corr to random state 45 is: 0.8508180943214629\n",
      "acc_score corr to random state 46 is: 0.8594802694898941\n",
      "acc_score corr to random state 47 is: 0.8426371511068335\n",
      "acc_score corr to random state 48 is: 0.8464870067372473\n",
      "acc_score corr to random state 49 is: 0.8541867179980751\n",
      "acc_score corr to random state 50 is: 0.8498556304138595\n",
      "acc_score corr to random state 51 is: 0.8450433108758422\n",
      "acc_score corr to random state 52 is: 0.8479307025986526\n",
      "acc_score corr to random state 53 is: 0.8445620789220404\n",
      "acc_score corr to random state 54 is: 0.84167468719923\n",
      "acc_score corr to random state 55 is: 0.8517805582290664\n",
      "acc_score corr to random state 56 is: 0.8387872954764196\n",
      "acc_score corr to random state 57 is: 0.8383060635226179\n",
      "acc_score corr to random state 58 is: 0.848893166506256\n",
      "acc_score corr to random state 59 is: 0.8411934552454283\n",
      "acc_score corr to random state 60 is: 0.8392685274302214\n",
      "acc_score corr to random state 61 is: 0.8334937439846006\n",
      "acc_score corr to random state 62 is: 0.8498556304138595\n",
      "acc_score corr to random state 63 is: 0.8512993262752647\n",
      "acc_score corr to random state 64 is: 0.8556304138594802\n",
      "acc_score corr to random state 65 is: 0.8378248315688162\n",
      "acc_score corr to random state 66 is: 0.848893166506256\n",
      "acc_score corr to random state 67 is: 0.8397497593840231\n",
      "acc_score corr to random state 68 is: 0.8484119345524542\n",
      "acc_score corr to random state 69 is: 0.8484119345524542\n",
      "acc_score corr to random state 70 is: 0.8460057747834456\n",
      "acc_score corr to random state 71 is: 0.8397497593840231\n",
      "acc_score corr to random state 72 is: 0.8527430221366699\n",
      "acc_score corr to random state 73 is: 0.8512993262752647\n",
      "acc_score corr to random state 74 is: 0.8594802694898941\n",
      "acc_score corr to random state 75 is: 0.8503368623676613\n",
      "acc_score corr to random state 76 is: 0.8479307025986526\n",
      "acc_score corr to random state 77 is: 0.8426371511068335\n",
      "acc_score corr to random state 78 is: 0.8421559191530318\n",
      "acc_score corr to random state 79 is: 0.8508180943214629\n",
      "acc_score corr to random state 80 is: 0.8551491819056786\n",
      "acc_score corr to random state 81 is: 0.8368623676612127\n",
      "acc_score corr to random state 82 is: 0.8397497593840231\n",
      "acc_score corr to random state 83 is: 0.8397497593840231\n",
      "acc_score corr to random state 84 is: 0.8541867179980751\n",
      "acc_score corr to random state 85 is: 0.8484119345524542\n",
      "acc_score corr to random state 86 is: 0.8450433108758422\n",
      "acc_score corr to random state 87 is: 0.836381135707411\n",
      "acc_score corr to random state 88 is: 0.8493743984600578\n",
      "acc_score corr to random state 89 is: 0.8407122232916265\n",
      "acc_score corr to random state 90 is: 0.8517805582290664\n",
      "acc_score corr to random state 91 is: 0.8349374398460058\n",
      "acc_score corr to random state 92 is: 0.8589990375360924\n",
      "acc_score corr to random state 93 is: 0.8479307025986526\n",
      "acc_score corr to random state 94 is: 0.84167468719923\n",
      "acc_score corr to random state 95 is: 0.8407122232916265\n",
      "acc_score corr to random state 96 is: 0.8460057747834456\n",
      "acc_score corr to random state 97 is: 0.8330125120307988\n",
      "acc_score corr to random state 98 is: 0.8493743984600578\n",
      "acc_score corr to random state 99 is: 0.8426371511068335\n",
      "acc_score corr to random state 100 is: 0.8407122232916265\n",
      "\n",
      "\n",
      "max accuracy score corr to  46 is 0.8594802694898941\n"
     ]
    }
   ],
   "source": [
    "svc=SVC(kernel='linear')\n",
    "r_state=maxacc_Score(svc,x,y)"
   ]
  },
  {
   "cell_type": "code",
   "execution_count": 155,
   "metadata": {
    "scrolled": true
   },
   "outputs": [
    {
     "name": "stdout",
     "output_type": "stream",
     "text": [
      "acc_score corr to random state 42 is: 0.8243503368623677\n",
      "acc_score corr to random state 43 is: 0.8508180943214629\n",
      "acc_score corr to random state 44 is: 0.8445620789220404\n",
      "acc_score corr to random state 45 is: 0.8440808469682387\n",
      "acc_score corr to random state 46 is: 0.8638113570741097\n",
      "acc_score corr to random state 47 is: 0.8334937439846006\n",
      "acc_score corr to random state 48 is: 0.848893166506256\n",
      "acc_score corr to random state 49 is: 0.848893166506256\n",
      "acc_score corr to random state 50 is: 0.8512993262752647\n",
      "acc_score corr to random state 51 is: 0.84167468719923\n",
      "acc_score corr to random state 52 is: 0.8421559191530318\n",
      "acc_score corr to random state 53 is: 0.8387872954764196\n",
      "acc_score corr to random state 54 is: 0.8358999037536092\n",
      "acc_score corr to random state 55 is: 0.8498556304138595\n",
      "acc_score corr to random state 56 is: 0.8435996150144369\n",
      "acc_score corr to random state 57 is: 0.8334937439846006\n",
      "acc_score corr to random state 58 is: 0.8373435996150145\n",
      "acc_score corr to random state 59 is: 0.8402309913378249\n",
      "acc_score corr to random state 60 is: 0.8368623676612127\n",
      "acc_score corr to random state 61 is: 0.8257940327237728\n",
      "acc_score corr to random state 62 is: 0.8474494706448508\n",
      "acc_score corr to random state 63 is: 0.8484119345524542\n",
      "acc_score corr to random state 64 is: 0.8527430221366699\n",
      "acc_score corr to random state 65 is: 0.8344562078922041\n",
      "acc_score corr to random state 66 is: 0.8445620789220404\n",
      "acc_score corr to random state 67 is: 0.8368623676612127\n",
      "acc_score corr to random state 68 is: 0.8426371511068335\n",
      "acc_score corr to random state 69 is: 0.8411934552454283\n",
      "acc_score corr to random state 70 is: 0.8358999037536092\n",
      "acc_score corr to random state 71 is: 0.8431183830606352\n",
      "acc_score corr to random state 72 is: 0.856111645813282\n",
      "acc_score corr to random state 73 is: 0.8522617901828682\n",
      "acc_score corr to random state 74 is: 0.8474494706448508\n",
      "acc_score corr to random state 75 is: 0.8546679499518768\n",
      "acc_score corr to random state 76 is: 0.8431183830606352\n",
      "acc_score corr to random state 77 is: 0.8435996150144369\n",
      "acc_score corr to random state 78 is: 0.8373435996150145\n",
      "acc_score corr to random state 79 is: 0.8517805582290664\n",
      "acc_score corr to random state 80 is: 0.8537054860442733\n",
      "acc_score corr to random state 81 is: 0.8334937439846006\n",
      "acc_score corr to random state 82 is: 0.8402309913378249\n",
      "acc_score corr to random state 83 is: 0.8421559191530318\n",
      "acc_score corr to random state 84 is: 0.8498556304138595\n",
      "acc_score corr to random state 85 is: 0.8397497593840231\n",
      "acc_score corr to random state 86 is: 0.8431183830606352\n",
      "acc_score corr to random state 87 is: 0.8310875842155919\n",
      "acc_score corr to random state 88 is: 0.8469682386910491\n",
      "acc_score corr to random state 89 is: 0.8435996150144369\n",
      "acc_score corr to random state 90 is: 0.848893166506256\n",
      "acc_score corr to random state 91 is: 0.8310875842155919\n",
      "acc_score corr to random state 92 is: 0.8551491819056786\n",
      "acc_score corr to random state 93 is: 0.8325312800769971\n",
      "acc_score corr to random state 94 is: 0.8358999037536092\n",
      "acc_score corr to random state 95 is: 0.8435996150144369\n",
      "acc_score corr to random state 96 is: 0.8435996150144369\n",
      "acc_score corr to random state 97 is: 0.8383060635226179\n",
      "acc_score corr to random state 98 is: 0.8464870067372473\n",
      "acc_score corr to random state 99 is: 0.8460057747834456\n",
      "acc_score corr to random state 100 is: 0.8387872954764196\n",
      "\n",
      "\n",
      "max accuracy score corr to  46 is 0.8638113570741097\n"
     ]
    }
   ],
   "source": [
    "knn=KNeighborsClassifier(n_neighbors=10)\n",
    "r_state=maxacc_Score(knn,x,y)"
   ]
  },
  {
   "cell_type": "code",
   "execution_count": 156,
   "metadata": {
    "scrolled": true
   },
   "outputs": [
    {
     "name": "stdout",
     "output_type": "stream",
     "text": [
      "acc_score corr to random state 42 is: 0.8435996150144369\n",
      "acc_score corr to random state 43 is: 0.8589990375360924\n",
      "acc_score corr to random state 44 is: 0.8575553416746872\n",
      "acc_score corr to random state 45 is: 0.8647738209817132\n",
      "acc_score corr to random state 46 is: 0.8739172281039461\n",
      "acc_score corr to random state 47 is: 0.8464870067372473\n",
      "acc_score corr to random state 48 is: 0.8676612127045236\n",
      "acc_score corr to random state 49 is: 0.8695861405197305\n",
      "acc_score corr to random state 50 is: 0.8657362848893166\n",
      "acc_score corr to random state 51 is: 0.8546679499518768\n",
      "acc_score corr to random state 52 is: 0.8503368623676613\n",
      "acc_score corr to random state 53 is: 0.8551491819056786\n",
      "acc_score corr to random state 54 is: 0.8594802694898941\n",
      "acc_score corr to random state 55 is: 0.8681424446583254\n",
      "acc_score corr to random state 56 is: 0.8589990375360924\n",
      "acc_score corr to random state 57 is: 0.8503368623676613\n",
      "acc_score corr to random state 58 is: 0.8527430221366699\n",
      "acc_score corr to random state 59 is: 0.8517805582290664\n",
      "acc_score corr to random state 60 is: 0.8551491819056786\n",
      "acc_score corr to random state 61 is: 0.8474494706448508\n",
      "acc_score corr to random state 62 is: 0.8604427333974976\n",
      "acc_score corr to random state 63 is: 0.868623676612127\n",
      "acc_score corr to random state 64 is: 0.8671799807507219\n",
      "acc_score corr to random state 65 is: 0.8512993262752647\n",
      "acc_score corr to random state 66 is: 0.8565928777670837\n",
      "acc_score corr to random state 67 is: 0.8623676612127045\n",
      "acc_score corr to random state 68 is: 0.8609239653512993\n",
      "acc_score corr to random state 69 is: 0.856111645813282\n",
      "acc_score corr to random state 70 is: 0.848893166506256\n",
      "acc_score corr to random state 71 is: 0.8537054860442733\n",
      "acc_score corr to random state 72 is: 0.8647738209817132\n",
      "acc_score corr to random state 73 is: 0.8638113570741097\n",
      "acc_score corr to random state 74 is: 0.8642925890279115\n",
      "acc_score corr to random state 75 is: 0.8599615014436959\n",
      "acc_score corr to random state 76 is: 0.8657362848893166\n",
      "acc_score corr to random state 77 is: 0.8537054860442733\n",
      "acc_score corr to random state 78 is: 0.8647738209817132\n",
      "acc_score corr to random state 79 is: 0.8556304138594802\n",
      "acc_score corr to random state 80 is: 0.8647738209817132\n",
      "acc_score corr to random state 81 is: 0.856111645813282\n",
      "acc_score corr to random state 82 is: 0.8474494706448508\n",
      "acc_score corr to random state 83 is: 0.856111645813282\n",
      "acc_score corr to random state 84 is: 0.8724735322425409\n",
      "acc_score corr to random state 85 is: 0.8662175168431184\n",
      "acc_score corr to random state 86 is: 0.8671799807507219\n",
      "acc_score corr to random state 87 is: 0.8498556304138595\n",
      "acc_score corr to random state 88 is: 0.865255052935515\n",
      "acc_score corr to random state 89 is: 0.8556304138594802\n",
      "acc_score corr to random state 90 is: 0.8589990375360924\n",
      "acc_score corr to random state 91 is: 0.8532242540904716\n",
      "acc_score corr to random state 92 is: 0.8734359961501443\n",
      "acc_score corr to random state 93 is: 0.8589990375360924\n",
      "acc_score corr to random state 94 is: 0.8541867179980751\n",
      "acc_score corr to random state 95 is: 0.8537054860442733\n",
      "acc_score corr to random state 96 is: 0.856111645813282\n",
      "acc_score corr to random state 97 is: 0.8556304138594802\n",
      "acc_score corr to random state 98 is: 0.8575553416746872\n",
      "acc_score corr to random state 99 is: 0.8527430221366699\n",
      "acc_score corr to random state 100 is: 0.8556304138594802\n",
      "\n",
      "\n",
      "max accuracy score corr to  46 is 0.8739172281039461\n"
     ]
    }
   ],
   "source": [
    "ada=AdaBoostClassifier(n_estimators=50,learning_rate=1)\n",
    "r_state=maxacc_Score(ada,x,y)"
   ]
  },
  {
   "cell_type": "code",
   "execution_count": 157,
   "metadata": {},
   "outputs": [],
   "source": [
    "rfc=RandomForestClassifier(n_estimators =200)\n",
    "knn=KNeighborsClassifier(n_neighbors=10)\n",
    "svc=SVC(gamma=0.1,kernel='rbf')\n",
    "ada=AdaBoostClassifier(n_estimators=50,learning_rate=1)\n",
    "gbc=GradientBoostingClassifier(learning_rate=0.1,n_estimators=1000)\n",
    "dtc=DecisionTreeClassifier(criterion=\"entropy\")\n",
    "LR=LogisticRegression()"
   ]
  },
  {
   "cell_type": "code",
   "execution_count": 158,
   "metadata": {},
   "outputs": [],
   "source": [
    "models = []\n",
    "models.append(('logistic regression', LR))\n",
    "models.append(('ada boost classifier', ada))\n",
    "models.append(('randomforestclassifier', rfc))\n",
    "models.append(('kneighborsclassifier', knn))\n",
    "models.append(('svc', svc))\n",
    "models.append(('gradient boosting classifier', gbc))\n",
    "models.append(('decisiontreeclassifier', dtc))\n",
    "\n",
    "\n",
    "\n"
   ]
  },
  {
   "cell_type": "code",
   "execution_count": 159,
   "metadata": {},
   "outputs": [],
   "source": [
    "\n",
    "from sklearn.metrics import accuracy_score,classification_report,confusion_matrix,auc,roc_auc_score,roc_curve,f1_score\n",
    "from sklearn.model_selection import cross_val_score\n",
    "x_train,x_test,y_train,y_test=train_test_split(x,y,random_state=46,test_size=.25)"
   ]
  },
  {
   "cell_type": "code",
   "execution_count": 160,
   "metadata": {},
   "outputs": [
    {
     "name": "stdout",
     "output_type": "stream",
     "text": [
      "******** logistic regression *******\n",
      "\n",
      "\n",
      "LogisticRegression(C=1.0, class_weight=None, dual=False, fit_intercept=True,\n",
      "                   intercept_scaling=1, l1_ratio=None, max_iter=100,\n",
      "                   multi_class='warn', n_jobs=None, penalty='l2',\n",
      "                   random_state=None, solver='warn', tol=0.0001, verbose=0,\n",
      "                   warm_start=False)\n",
      "\n",
      "\n",
      "acc_score= 0.8710298363811357\n",
      "\n",
      "\n",
      "f1_score= 0.6127167630057804\n",
      "\n",
      "\n",
      "cross_val_sc= 0.8522576671584978\n",
      "\n",
      "\n",
      "roc_auc_sc= 0.748148832767239\n",
      "\n",
      "\n",
      "classification_repo\n",
      "               precision    recall  f1-score   support\n",
      "\n",
      "           0       0.90      0.94      0.92      1695\n",
      "           1       0.69      0.55      0.61       383\n",
      "\n",
      "    accuracy                           0.87      2078\n",
      "   macro avg       0.79      0.75      0.77      2078\n",
      "weighted avg       0.86      0.87      0.87      2078\n",
      "\n",
      "\n",
      "\n",
      "[[1598   97]\n",
      " [ 171  212]]\n",
      "\n",
      "\n",
      "AxesSubplot(0.125,0.808774;0.62x0.0712264)\n",
      "\n",
      "\n",
      "\n",
      "******** ada boost classifier *******\n",
      "\n",
      "\n",
      "AdaBoostClassifier(algorithm='SAMME.R', base_estimator=None, learning_rate=1,\n",
      "                   n_estimators=50, random_state=None)\n",
      "\n",
      "\n",
      "acc_score= 0.8739172281039461\n",
      "\n",
      "\n",
      "f1_score= 0.6257142857142858\n",
      "\n",
      "\n",
      "cross_val_sc= 0.8575532228190742\n",
      "\n",
      "\n",
      "roc_auc_sc= 0.7569922287175459\n",
      "\n",
      "\n",
      "classification_repo\n",
      "               precision    recall  f1-score   support\n",
      "\n",
      "           0       0.91      0.94      0.92      1695\n",
      "           1       0.69      0.57      0.63       383\n",
      "\n",
      "    accuracy                           0.87      2078\n",
      "   macro avg       0.80      0.76      0.77      2078\n",
      "weighted avg       0.87      0.87      0.87      2078\n",
      "\n",
      "\n",
      "\n",
      "[[1597   98]\n",
      " [ 164  219]]\n",
      "\n",
      "\n",
      "AxesSubplot(0.125,0.808774;0.62x0.0712264)\n",
      "\n",
      "\n",
      "\n",
      "******** randomforestclassifier *******\n",
      "\n",
      "\n",
      "RandomForestClassifier(bootstrap=True, class_weight=None, criterion='gini',\n",
      "                       max_depth=None, max_features='auto', max_leaf_nodes=None,\n",
      "                       min_impurity_decrease=0.0, min_impurity_split=None,\n",
      "                       min_samples_leaf=1, min_samples_split=2,\n",
      "                       min_weight_fraction_leaf=0.0, n_estimators=200,\n",
      "                       n_jobs=None, oob_score=False, random_state=None,\n",
      "                       verbose=0, warm_start=False)\n",
      "\n",
      "\n",
      "acc_score= 0.8522617901828682\n",
      "\n",
      "\n",
      "f1_score= 0.5922974767596282\n",
      "\n",
      "\n",
      "cross_val_sc= 0.8398662854695649\n",
      "\n",
      "\n",
      "roc_auc_sc= 0.7477598835462927\n",
      "\n",
      "\n",
      "classification_repo\n",
      "               precision    recall  f1-score   support\n",
      "\n",
      "           0       0.91      0.91      0.91      1695\n",
      "           1       0.60      0.58      0.59       383\n",
      "\n",
      "    accuracy                           0.85      2078\n",
      "   macro avg       0.75      0.75      0.75      2078\n",
      "weighted avg       0.85      0.85      0.85      2078\n",
      "\n",
      "\n",
      "\n",
      "[[1548  147]\n",
      " [ 160  223]]\n",
      "\n",
      "\n",
      "AxesSubplot(0.125,0.808774;0.62x0.0712264)\n",
      "\n",
      "\n",
      "\n",
      "******** kneighborsclassifier *******\n",
      "\n",
      "\n",
      "KNeighborsClassifier(algorithm='auto', leaf_size=30, metric='minkowski',\n",
      "                     metric_params=None, n_jobs=None, n_neighbors=10, p=2,\n",
      "                     weights='uniform')\n",
      "\n",
      "\n",
      "acc_score= 0.8638113570741097\n",
      "\n",
      "\n",
      "f1_score= 0.578241430700447\n",
      "\n",
      "\n",
      "cross_val_sc= 0.8415543320881416\n",
      "\n",
      "\n",
      "roc_auc_sc= 0.7255350940024801\n",
      "\n",
      "\n",
      "classification_repo\n",
      "               precision    recall  f1-score   support\n",
      "\n",
      "           0       0.89      0.94      0.92      1695\n",
      "           1       0.67      0.51      0.58       383\n",
      "\n",
      "    accuracy                           0.86      2078\n",
      "   macro avg       0.78      0.73      0.75      2078\n",
      "weighted avg       0.85      0.86      0.86      2078\n",
      "\n",
      "\n",
      "\n",
      "[[1601   94]\n",
      " [ 189  194]]\n",
      "\n",
      "\n",
      "AxesSubplot(0.125,0.808774;0.62x0.0712264)\n",
      "\n",
      "\n",
      "\n",
      "******** svc *******\n",
      "\n",
      "\n",
      "SVC(C=1.0, cache_size=200, class_weight=None, coef0=0.0,\n",
      "    decision_function_shape='ovr', degree=3, gamma=0.1, kernel='rbf',\n",
      "    max_iter=-1, probability=False, random_state=None, shrinking=True,\n",
      "    tol=0.001, verbose=False)\n",
      "\n",
      "\n",
      "acc_score= 0.865255052935515\n",
      "\n",
      "\n",
      "f1_score= 0.5918367346938775\n",
      "\n",
      "\n",
      "cross_val_sc= 0.8516600357274697\n",
      "\n",
      "\n",
      "roc_auc_sc= 0.7355145297565409\n",
      "\n",
      "\n",
      "classification_repo\n",
      "               precision    recall  f1-score   support\n",
      "\n",
      "           0       0.90      0.94      0.92      1695\n",
      "           1       0.67      0.53      0.59       383\n",
      "\n",
      "    accuracy                           0.87      2078\n",
      "   macro avg       0.78      0.74      0.76      2078\n",
      "weighted avg       0.86      0.87      0.86      2078\n",
      "\n",
      "\n",
      "\n",
      "[[1595  100]\n",
      " [ 180  203]]\n",
      "\n",
      "\n",
      "AxesSubplot(0.125,0.808774;0.62x0.0712264)\n",
      "\n",
      "\n",
      "\n",
      "******** gradient boosting classifier *******\n",
      "\n",
      "\n",
      "GradientBoostingClassifier(criterion='friedman_mse', init=None,\n",
      "                           learning_rate=0.1, loss='deviance', max_depth=3,\n",
      "                           max_features=None, max_leaf_nodes=None,\n",
      "                           min_impurity_decrease=0.0, min_impurity_split=None,\n",
      "                           min_samples_leaf=1, min_samples_split=2,\n",
      "                           min_weight_fraction_leaf=0.0, n_estimators=1000,\n",
      "                           n_iter_no_change=None, presort='auto',\n",
      "                           random_state=None, subsample=1.0, tol=0.0001,\n",
      "                           validation_fraction=0.1, verbose=0,\n",
      "                           warm_start=False)\n",
      "\n",
      "\n",
      "acc_score= 0.8589990375360924\n",
      "\n",
      "\n",
      "f1_score= 0.5969738651994498\n",
      "\n",
      "\n",
      "cross_val_sc= 0.8451590857319864\n",
      "\n",
      "\n",
      "roc_auc_sc= 0.7458266903887182\n",
      "\n",
      "\n",
      "classification_repo\n",
      "               precision    recall  f1-score   support\n",
      "\n",
      "           0       0.90      0.93      0.91      1695\n",
      "           1       0.63      0.57      0.60       383\n",
      "\n",
      "    accuracy                           0.86      2078\n",
      "   macro avg       0.77      0.75      0.76      2078\n",
      "weighted avg       0.85      0.86      0.86      2078\n",
      "\n",
      "\n",
      "\n",
      "[[1568  127]\n",
      " [ 166  217]]\n",
      "\n",
      "\n",
      "AxesSubplot(0.125,0.808774;0.62x0.0712264)\n",
      "\n",
      "\n",
      "\n",
      "******** decisiontreeclassifier *******\n",
      "\n",
      "\n",
      "DecisionTreeClassifier(class_weight=None, criterion='entropy', max_depth=None,\n",
      "                       max_features=None, max_leaf_nodes=None,\n",
      "                       min_impurity_decrease=0.0, min_impurity_split=None,\n",
      "                       min_samples_leaf=1, min_samples_split=2,\n",
      "                       min_weight_fraction_leaf=0.0, presort=False,\n",
      "                       random_state=None, splitter='best')\n",
      "\n",
      "\n",
      "acc_score= 0.8113570741097209\n",
      "\n",
      "\n",
      "f1_score= 0.4999999999999999\n",
      "\n",
      "\n",
      "cross_val_sc= 0.8082257497777837\n",
      "\n",
      "\n",
      "roc_auc_sc= 0.6954026972280628\n",
      "\n",
      "\n",
      "classification_repo\n",
      "               precision    recall  f1-score   support\n",
      "\n",
      "           0       0.89      0.88      0.88      1695\n",
      "           1       0.49      0.51      0.50       383\n",
      "\n",
      "    accuracy                           0.81      2078\n",
      "   macro avg       0.69      0.70      0.69      2078\n",
      "weighted avg       0.81      0.81      0.81      2078\n",
      "\n",
      "\n",
      "\n",
      "[[1490  205]\n",
      " [ 187  196]]\n",
      "\n",
      "\n",
      "AxesSubplot(0.125,0.808774;0.62x0.0712264)\n",
      "\n",
      "\n",
      "\n"
     ]
    },
    {
     "data": {
      "image/png": "[encoded data removed]",
      "text/plain": [
       "<Figure size 720x2880 with 3 Axes>"
      ]
     },
     "metadata": {
      "needs_background": "light"
     },
     "output_type": "display_data"
    },
    {
     "data": {
      "image/png": "[encoded data removed]",
      "text/plain": [
       "<Figure size 720x2880 with 3 Axes>"
      ]
     },
     "metadata": {
      "needs_background": "light"
     },
     "output_type": "display_data"
    },
    {
     "data": {
      "image/png": "[encoded data removed]",
      "text/plain": [
       "<Figure size 720x2880 with 3 Axes>"
      ]
     },
     "metadata": {
      "needs_background": "light"
     },
     "output_type": "display_data"
    },
    {
     "data": {
      "image/png": "[encoded data removed]",
      "text/plain": [
       "<Figure size 720x2880 with 3 Axes>"
      ]
     },
     "metadata": {
      "needs_background": "light"
     },
     "output_type": "display_data"
    },
    {
     "data": {
      "image/png": "[encoded data removed]",
      "text/plain": [
       "<Figure size 720x2880 with 3 Axes>"
      ]
     },
     "metadata": {
      "needs_background": "light"
     },
     "output_type": "display_data"
    },
    {
     "data": {
      "image/png": "[encoded data removed]",
      "text/plain": [
       "<Figure size 720x2880 with 3 Axes>"
      ]
     },
     "metadata": {
      "needs_background": "light"
     },
     "output_type": "display_data"
    },
    {
     "data": {
      "image/png": "[encoded data removed]",
      "text/plain": [
       "<Figure size 720x2880 with 3 Axes>"
      ]
     },
     "metadata": {
      "needs_background": "light"
     },
     "output_type": "display_data"
    }
   ],
   "source": [
    "Model=[]\n",
    "score=[]\n",
    "cvs=[]\n",
    "rocscore=[]\n",
    "F1=[]\n",
    "for name,model in models:\n",
    "    print('********',name,'*******')\n",
    "    print('\\n')\n",
    "    Model.append(name)\n",
    "    model.fit(x_train,y_train)\n",
    "    print(model)\n",
    "    pre=model.predict(x_test)\n",
    "    print('\\n')\n",
    "    AS=accuracy_score(y_test,pre)\n",
    "    print(\"acc_score=\",AS)\n",
    "    score.append(AS*100)\n",
    "    print('\\n')\n",
    "    f1=f1_score(y_test,pre)\n",
    "    print(\"f1_score=\",f1)\n",
    "    F1.append(f1*100)\n",
    "    print('\\n')\n",
    "    sc=cross_val_score(model,x,y,cv=10,scoring='accuracy').mean()\n",
    "    print('cross_val_sc=',sc)\n",
    "    cvs.append(sc*100)\n",
    "    print('\\n')\n",
    "    fpr,tpr,thresholds=roc_curve(y_test,pre)\n",
    "    roc_auc=auc(fpr,tpr)\n",
    "    print(\"roc_auc_sc=\",roc_auc)\n",
    "    rocscore.append(roc_auc*100)\n",
    "    print('\\n')\n",
    "    print('classification_repo\\n',classification_report(y_test,pre))\n",
    "    print('\\n')\n",
    "    cm=confusion_matrix(y_test,pre)\n",
    "    print(cm)\n",
    "    print('\\n')\n",
    "    plt.figure(figsize=(10,40))\n",
    "    plt.subplot(911)\n",
    "    plt.title(name)\n",
    "    print(sns.heatmap(cm,annot=True))\n",
    "    plt.subplot(912)\n",
    "    plt.title(name)\n",
    "    plt.plot(fpr,tpr)\n",
    "    plt.plot([0,1],[0,1],'r--')\n",
    "    plt.xlabel('TPR')\n",
    "    plt.ylabel('FPR')\n",
    "    print('\\n\\n')"
   ]
  },
  {
   "cell_type": "code",
   "execution_count": 161,
   "metadata": {},
   "outputs": [
    {
     "data": {
      "text/html": [
       "<div>\n",
       "<style scoped>\n",
       "    .dataframe tbody tr th:only-of-type {\n",
       "        vertical-align: middle;\n",
       "    }\n",
       "\n",
       "    .dataframe tbody tr th {\n",
       "        vertical-align: top;\n",
       "    }\n",
       "\n",
       "    .dataframe thead th {\n",
       "        text-align: right;\n",
       "    }\n",
       "</style>\n",
       "<table border=\"1\" class=\"dataframe\">\n",
       "  <thead>\n",
       "    <tr style=\"text-align: right;\">\n",
       "      <th></th>\n",
       "      <th>model</th>\n",
       "      <th>Accu_score</th>\n",
       "      <th>cross_val_Score</th>\n",
       "      <th>roc-score</th>\n",
       "    </tr>\n",
       "  </thead>\n",
       "  <tbody>\n",
       "    <tr>\n",
       "      <td>0</td>\n",
       "      <td>logistic regression</td>\n",
       "      <td>87.102984</td>\n",
       "      <td>85.225767</td>\n",
       "      <td>74.814883</td>\n",
       "    </tr>\n",
       "    <tr>\n",
       "      <td>1</td>\n",
       "      <td>ada boost classifier</td>\n",
       "      <td>87.391723</td>\n",
       "      <td>85.755322</td>\n",
       "      <td>75.699223</td>\n",
       "    </tr>\n",
       "    <tr>\n",
       "      <td>2</td>\n",
       "      <td>randomforestclassifier</td>\n",
       "      <td>85.226179</td>\n",
       "      <td>83.986629</td>\n",
       "      <td>74.775988</td>\n",
       "    </tr>\n",
       "    <tr>\n",
       "      <td>3</td>\n",
       "      <td>kneighborsclassifier</td>\n",
       "      <td>86.381136</td>\n",
       "      <td>84.155433</td>\n",
       "      <td>72.553509</td>\n",
       "    </tr>\n",
       "    <tr>\n",
       "      <td>4</td>\n",
       "      <td>svc</td>\n",
       "      <td>86.525505</td>\n",
       "      <td>85.166004</td>\n",
       "      <td>73.551453</td>\n",
       "    </tr>\n",
       "    <tr>\n",
       "      <td>5</td>\n",
       "      <td>gradient boosting classifier</td>\n",
       "      <td>85.899904</td>\n",
       "      <td>84.515909</td>\n",
       "      <td>74.582669</td>\n",
       "    </tr>\n",
       "    <tr>\n",
       "      <td>6</td>\n",
       "      <td>decisiontreeclassifier</td>\n",
       "      <td>81.135707</td>\n",
       "      <td>80.822575</td>\n",
       "      <td>69.540270</td>\n",
       "    </tr>\n",
       "  </tbody>\n",
       "</table>\n",
       "</div>"
      ],
      "text/plain": [
       "                          model  Accu_score  cross_val_Score  roc-score\n",
       "0           logistic regression   87.102984        85.225767  74.814883\n",
       "1          ada boost classifier   87.391723        85.755322  75.699223\n",
       "2        randomforestclassifier   85.226179        83.986629  74.775988\n",
       "3          kneighborsclassifier   86.381136        84.155433  72.553509\n",
       "4                           svc   86.525505        85.166004  73.551453\n",
       "5  gradient boosting classifier   85.899904        84.515909  74.582669\n",
       "6        decisiontreeclassifier   81.135707        80.822575  69.540270"
      ]
     },
     "execution_count": 161,
     "metadata": {},
     "output_type": "execute_result"
    }
   ],
   "source": [
    "result=pd.DataFrame({'model':Model,'Accu_score':score,'cross_val_Score':cvs,'roc-score':rocscore})\n",
    "result"
   ]
  },
  {
   "cell_type": "code",
   "execution_count": 164,
   "metadata": {},
   "outputs": [],
   "source": [
    "# conclusion = ADA BOOST CLASSIFIER (BOOSTING TECHNIQUE) IS WORKING BEST WITH THIS DATASET WITH A ACC SCORE OF > 87\n",
    "# CROSS VAL SCORE OF GREATER THAN 85 ,SHOWS THAT THE MODEL IS NEITHER UNDERFITTING,OVERFITTING :-\n",
    "#RESULTS ARE;\n",
    "y_ada=ada.predict(x_test)"
   ]
  },
  {
   "cell_type": "code",
   "execution_count": 168,
   "metadata": {},
   "outputs": [
    {
     "data": {
      "text/html": [
       "<div>\n",
       "<style scoped>\n",
       "    .dataframe tbody tr th:only-of-type {\n",
       "        vertical-align: middle;\n",
       "    }\n",
       "\n",
       "    .dataframe tbody tr th {\n",
       "        vertical-align: top;\n",
       "    }\n",
       "\n",
       "    .dataframe thead th {\n",
       "        text-align: right;\n",
       "    }\n",
       "</style>\n",
       "<table border=\"1\" class=\"dataframe\">\n",
       "  <thead>\n",
       "    <tr style=\"text-align: right;\">\n",
       "      <th></th>\n",
       "      <th>actual</th>\n",
       "      <th>predicted</th>\n",
       "    </tr>\n",
       "  </thead>\n",
       "  <tbody>\n",
       "    <tr>\n",
       "      <td>14274</td>\n",
       "      <td>0</td>\n",
       "      <td>0</td>\n",
       "    </tr>\n",
       "    <tr>\n",
       "      <td>20699</td>\n",
       "      <td>1</td>\n",
       "      <td>1</td>\n",
       "    </tr>\n",
       "    <tr>\n",
       "      <td>9182</td>\n",
       "      <td>1</td>\n",
       "      <td>1</td>\n",
       "    </tr>\n",
       "    <tr>\n",
       "      <td>12742</td>\n",
       "      <td>0</td>\n",
       "      <td>0</td>\n",
       "    </tr>\n",
       "    <tr>\n",
       "      <td>17736</td>\n",
       "      <td>1</td>\n",
       "      <td>1</td>\n",
       "    </tr>\n",
       "  </tbody>\n",
       "</table>\n",
       "</div>"
      ],
      "text/plain": [
       "       actual  predicted\n",
       "14274       0          0\n",
       "20699       1          1\n",
       "9182        1          1\n",
       "12742       0          0\n",
       "17736       1          1"
      ]
     },
     "execution_count": 168,
     "metadata": {},
     "output_type": "execute_result"
    }
   ],
   "source": [
    "#RESULTS\n",
    "PREDICTIONS=pd.DataFrame({'actual':y_test,'predicted':y_ada})\n",
    "PREDICTIONS.head()"
   ]
  },
  {
   "cell_type": "code",
   "execution_count": 169,
   "metadata": {},
   "outputs": [
    {
     "data": {
      "text/plain": [
       "<matplotlib.collections.PathCollection at 0x16b00044088>"
      ]
     },
     "execution_count": 169,
     "metadata": {},
     "output_type": "execute_result"
    },
    {
     "data": {
      "image/png": "[encoded data removed]",
      "text/plain": [
       "<Figure size 432x288 with 1 Axes>"
      ]
     },
     "metadata": {
      "needs_background": "light"
     },
     "output_type": "display_data"
    }
   ],
   "source": [
    "plt.scatter(y_test,y_ada)"
   ]
  },
  {
   "cell_type": "code",
   "execution_count": 170,
   "metadata": {},
   "outputs": [
    {
     "data": {
      "text/plain": [
       "['census.pkl']"
      ]
     },
     "execution_count": 170,
     "metadata": {},
     "output_type": "execute_result"
    }
   ],
   "source": [
    "#saving the model \n",
    "from sklearn.externals import joblib\n",
    "joblib.dump(ada,'census.pkl')"
   ]
  }
 ],
 "metadata": {
  "kernelspec": {
   "display_name": "Python 3",
   "language": "python",
   "name": "python3"
  },
  "language_info": {
   "codemirror_mode": {
    "name": "ipython",
    "version": 3
   },
   "file_extension": ".py",
   "mimetype": "text/x-python",
   "name": "python",
   "nbconvert_exporter": "python",
   "pygments_lexer": "ipython3",
   "version": "3.7.4"
  }
 },
 "nbformat": 4,
 "nbformat_minor": 2
}
